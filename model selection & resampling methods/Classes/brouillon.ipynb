{
 "cells": [
  {
   "cell_type": "code",
   "execution_count": 11,
   "id": "cbd5228a",
   "metadata": {},
   "outputs": [
    {
     "ename": "NameError",
     "evalue": "name 'df' is not defined",
     "output_type": "error",
     "traceback": [
      "\u001b[1;31m---------------------------------------------------------------------------\u001b[0m",
      "\u001b[1;31mNameError\u001b[0m                                 Traceback (most recent call last)",
      "Cell \u001b[1;32mIn[11], line 5\u001b[0m\n\u001b[0;32m      2\u001b[0m \u001b[38;5;28;01mimport\u001b[39;00m \u001b[38;5;21;01mpandas\u001b[39;00m \u001b[38;5;28;01mas\u001b[39;00m \u001b[38;5;21;01mpd\u001b[39;00m\n\u001b[0;32m      4\u001b[0m \u001b[38;5;66;03m# Extract the sepal width for setosa and virginica species\u001b[39;00m\n\u001b[1;32m----> 5\u001b[0m setosa_sepal_width \u001b[38;5;241m=\u001b[39m \u001b[43mdf\u001b[49m\u001b[38;5;241m.\u001b[39mloc[df[\u001b[38;5;124m'\u001b[39m\u001b[38;5;124mTarget\u001b[39m\u001b[38;5;124m'\u001b[39m] \u001b[38;5;241m==\u001b[39m \u001b[38;5;124m'\u001b[39m\u001b[38;5;124msetosa\u001b[39m\u001b[38;5;124m'\u001b[39m, \u001b[38;5;124m'\u001b[39m\u001b[38;5;124msepal width (cm)\u001b[39m\u001b[38;5;124m'\u001b[39m]\u001b[38;5;241m.\u001b[39mvalues\n\u001b[0;32m      6\u001b[0m virginica_sepal_width \u001b[38;5;241m=\u001b[39m df\u001b[38;5;241m.\u001b[39mloc[df[\u001b[38;5;124m'\u001b[39m\u001b[38;5;124mTarget\u001b[39m\u001b[38;5;124m'\u001b[39m] \u001b[38;5;241m==\u001b[39m \u001b[38;5;124m'\u001b[39m\u001b[38;5;124mvirginica\u001b[39m\u001b[38;5;124m'\u001b[39m, \u001b[38;5;124m'\u001b[39m\u001b[38;5;124msepal width (cm)\u001b[39m\u001b[38;5;124m'\u001b[39m]\u001b[38;5;241m.\u001b[39mvalues\n\u001b[0;32m      8\u001b[0m \u001b[38;5;66;03m# Compute the observed difference in means\u001b[39;00m\n",
      "\u001b[1;31mNameError\u001b[0m: name 'df' is not defined"
     ]
    }
   ],
   "source": [
    "import numpy as np\n",
    "import pandas as pd\n",
    "\n",
    "# Extract the sepal width for setosa and virginica species\n",
    "setosa_sepal_width = df.loc[df['Target'] == 'setosa', 'sepal width (cm)'].values\n",
    "virginica_sepal_width = df.loc[df['Target'] == 'virginica', 'sepal width (cm)'].values\n",
    "\n",
    "# Compute the observed difference in means\n",
    "obs_diff = np.mean(setosa_sepal_width) - np.mean(virginica_sepal_width)\n",
    "\n",
    "# Combine the two samples and compute the overall mean\n",
    "combined_data = np.concatenate((setosa_sepal_width, virginica_sepal_width))\n",
    "overall_mean = np.mean(combined_data)\n",
    "\n",
    "# Define the number of permutations\n",
    "n_permutations = 10000\n",
    "\n",
    "# Initialize an array to store the permutation differences\n",
    "permutation_diffs = np.zeros(n_permutations)\n",
    "\n",
    "# Compute the permutation differences\n",
    "for i in range(n_permutations):\n",
    "    # Randomly permute the data\n",
    "    permuted_data = np.random.permutation(combined_data)\n",
    "    \n",
    "    # Split the permuted data into two samples\n",
    "    permuted_setosa_sepal_width = permuted_data[:len(setosa_sepal_width)]\n",
    "    permuted_virginica_sepal_width = permuted_data[len(setosa_sepal_width):]\n",
    "    \n",
    "    # Compute the difference in means\n",
    "    permuted_diff = np.mean(permuted_setosa_sepal_width) - np.mean(permuted_virginica_sepal_width)\n",
    "    \n",
    "    # Store the permutation difference\n",
    "    permutation_diffs[i] = permuted_diff\n",
    "\n",
    "# Compute the p-value\n",
    "p_value = np.sum(np.abs(permutation_diffs) >= np.abs(obs_diff)) / n_permutations\n",
    "\n",
    "# Print the results\n",
    "print(f\"The observed difference in means is {obs_diff:.3f}\")\n",
    "print(f\"The p-value is {p_value:.3f}\")\n"
   ]
  }
 ],
 "metadata": {
  "kernelspec": {
   "display_name": "Python 3 (ipykernel)",
   "language": "python",
   "name": "python3"
  },
  "language_info": {
   "codemirror_mode": {
    "name": "ipython",
    "version": 3
   },
   "file_extension": ".py",
   "mimetype": "text/x-python",
   "name": "python",
   "nbconvert_exporter": "python",
   "pygments_lexer": "ipython3",
   "version": "3.10.10"
  }
 },
 "nbformat": 4,
 "nbformat_minor": 5
}
