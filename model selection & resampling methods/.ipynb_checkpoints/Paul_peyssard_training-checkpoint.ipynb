{
 "cells": [
  {
   "cell_type": "markdown",
   "metadata": {},
   "source": [
    "## Exam 22/03/2023\n",
    "\n",
    "\n",
    "We work with the database ADNI, containing information for a clinical cohort of healhty volunteers and patients with Alzheimer's disease."
   ]
  },
  {
   "cell_type": "markdown",
   "metadata": {},
   "source": [
    "## Librairies"
   ]
  },
  {
   "cell_type": "code",
   "execution_count": 1,
   "metadata": {},
   "outputs": [],
   "source": [
    "from sklearn.linear_model import LogisticRegression\n",
    "from sklearn.metrics import accuracy_score\n",
    "from sklearn.model_selection import RepeatedKFold,StratifiedKFold,cross_val_score,train_test_split\n",
    "from sklearn.neighbors import KNeighborsClassifier\n",
    "import warnings\n",
    "import itertools"
   ]
  },
  {
   "cell_type": "code",
   "execution_count": 2,
   "metadata": {},
   "outputs": [
    {
     "data": {
      "text/html": [
       "<div>\n",
       "<style scoped>\n",
       "    .dataframe tbody tr th:only-of-type {\n",
       "        vertical-align: middle;\n",
       "    }\n",
       "\n",
       "    .dataframe tbody tr th {\n",
       "        vertical-align: top;\n",
       "    }\n",
       "\n",
       "    .dataframe thead th {\n",
       "        text-align: right;\n",
       "    }\n",
       "</style>\n",
       "<table border=\"1\" class=\"dataframe\">\n",
       "  <thead>\n",
       "    <tr style=\"text-align: right;\">\n",
       "      <th></th>\n",
       "      <th>Unnamed: 0</th>\n",
       "      <th>RID</th>\n",
       "      <th>Hippocampus_volume</th>\n",
       "      <th>AGE</th>\n",
       "      <th>PTGENDER</th>\n",
       "      <th>PTEDUCAT</th>\n",
       "      <th>ADAS11</th>\n",
       "      <th>FDG</th>\n",
       "      <th>DX</th>\n",
       "    </tr>\n",
       "  </thead>\n",
       "  <tbody>\n",
       "    <tr>\n",
       "      <th>0</th>\n",
       "      <td>1</td>\n",
       "      <td>2</td>\n",
       "      <td>0.004200</td>\n",
       "      <td>74.3</td>\n",
       "      <td>1</td>\n",
       "      <td>16</td>\n",
       "      <td>10.67</td>\n",
       "      <td>1.369264</td>\n",
       "      <td>NL</td>\n",
       "    </tr>\n",
       "    <tr>\n",
       "      <th>1</th>\n",
       "      <td>16</td>\n",
       "      <td>3</td>\n",
       "      <td>0.002769</td>\n",
       "      <td>81.3</td>\n",
       "      <td>1</td>\n",
       "      <td>18</td>\n",
       "      <td>22.00</td>\n",
       "      <td>1.090790</td>\n",
       "      <td>Dementia</td>\n",
       "    </tr>\n",
       "    <tr>\n",
       "      <th>2</th>\n",
       "      <td>27</td>\n",
       "      <td>5</td>\n",
       "      <td>0.004312</td>\n",
       "      <td>73.7</td>\n",
       "      <td>1</td>\n",
       "      <td>16</td>\n",
       "      <td>8.67</td>\n",
       "      <td>1.297990</td>\n",
       "      <td>NL</td>\n",
       "    </tr>\n",
       "    <tr>\n",
       "      <th>3</th>\n",
       "      <td>46</td>\n",
       "      <td>8</td>\n",
       "      <td>0.004355</td>\n",
       "      <td>84.5</td>\n",
       "      <td>2</td>\n",
       "      <td>18</td>\n",
       "      <td>5.00</td>\n",
       "      <td>1.276278</td>\n",
       "      <td>NL</td>\n",
       "    </tr>\n",
       "    <tr>\n",
       "      <th>4</th>\n",
       "      <td>60</td>\n",
       "      <td>10</td>\n",
       "      <td>0.003728</td>\n",
       "      <td>73.9</td>\n",
       "      <td>2</td>\n",
       "      <td>12</td>\n",
       "      <td>12.33</td>\n",
       "      <td>1.118814</td>\n",
       "      <td>Dementia</td>\n",
       "    </tr>\n",
       "    <tr>\n",
       "      <th>5</th>\n",
       "      <td>65</td>\n",
       "      <td>14</td>\n",
       "      <td>0.005301</td>\n",
       "      <td>78.5</td>\n",
       "      <td>2</td>\n",
       "      <td>12</td>\n",
       "      <td>4.33</td>\n",
       "      <td>1.256990</td>\n",
       "      <td>NL</td>\n",
       "    </tr>\n",
       "    <tr>\n",
       "      <th>6</th>\n",
       "      <td>80</td>\n",
       "      <td>16</td>\n",
       "      <td>0.005406</td>\n",
       "      <td>65.4</td>\n",
       "      <td>1</td>\n",
       "      <td>9</td>\n",
       "      <td>10.33</td>\n",
       "      <td>1.395434</td>\n",
       "      <td>NL</td>\n",
       "    </tr>\n",
       "    <tr>\n",
       "      <th>7</th>\n",
       "      <td>93</td>\n",
       "      <td>21</td>\n",
       "      <td>0.005607</td>\n",
       "      <td>72.6</td>\n",
       "      <td>2</td>\n",
       "      <td>18</td>\n",
       "      <td>6.67</td>\n",
       "      <td>1.382790</td>\n",
       "      <td>NL</td>\n",
       "    </tr>\n",
       "    <tr>\n",
       "      <th>8</th>\n",
       "      <td>114</td>\n",
       "      <td>23</td>\n",
       "      <td>0.005298</td>\n",
       "      <td>71.7</td>\n",
       "      <td>1</td>\n",
       "      <td>14</td>\n",
       "      <td>4.00</td>\n",
       "      <td>1.364222</td>\n",
       "      <td>NL</td>\n",
       "    </tr>\n",
       "    <tr>\n",
       "      <th>9</th>\n",
       "      <td>221</td>\n",
       "      <td>43</td>\n",
       "      <td>0.004564</td>\n",
       "      <td>76.2</td>\n",
       "      <td>1</td>\n",
       "      <td>16</td>\n",
       "      <td>7.00</td>\n",
       "      <td>1.308406</td>\n",
       "      <td>NL</td>\n",
       "    </tr>\n",
       "  </tbody>\n",
       "</table>\n",
       "</div>"
      ],
      "text/plain": [
       "   Unnamed: 0  RID  Hippocampus_volume   AGE  PTGENDER  PTEDUCAT  ADAS11  \\\n",
       "0           1    2            0.004200  74.3         1        16   10.67   \n",
       "1          16    3            0.002769  81.3         1        18   22.00   \n",
       "2          27    5            0.004312  73.7         1        16    8.67   \n",
       "3          46    8            0.004355  84.5         2        18    5.00   \n",
       "4          60   10            0.003728  73.9         2        12   12.33   \n",
       "5          65   14            0.005301  78.5         2        12    4.33   \n",
       "6          80   16            0.005406  65.4         1         9   10.33   \n",
       "7          93   21            0.005607  72.6         2        18    6.67   \n",
       "8         114   23            0.005298  71.7         1        14    4.00   \n",
       "9         221   43            0.004564  76.2         1        16    7.00   \n",
       "\n",
       "        FDG        DX  \n",
       "0  1.369264        NL  \n",
       "1  1.090790  Dementia  \n",
       "2  1.297990        NL  \n",
       "3  1.276278        NL  \n",
       "4  1.118814  Dementia  \n",
       "5  1.256990        NL  \n",
       "6  1.395434        NL  \n",
       "7  1.382790        NL  \n",
       "8  1.364222        NL  \n",
       "9  1.308406        NL  "
      ]
     },
     "execution_count": 2,
     "metadata": {},
     "output_type": "execute_result"
    }
   ],
   "source": [
    "import numpy as np\n",
    "import pandas as pd\n",
    "import matplotlib.pyplot as plt\n",
    "\n",
    "dataset = pd.read_csv('data.csv')\n",
    "dataset[:10]"
   ]
  },
  {
   "cell_type": "markdown",
   "metadata": {},
   "source": [
    "Data fields:\n",
    "- RID: subject's identifier\n",
    "- Hippocampus_volume = normalized volume of the brain region hippocampus\n",
    "- AGE: subject's age\n",
    "- PTGENDER: subject's sex (1 Male, 2 Female)\n",
    "- PTEDUCAT: years of education\n",
    "- ADAS11: clinical score (Alzheimer's disease assessment scale)\n",
    "- FDG: measure of average brain metabolism\n",
    "- DX: clinical diagnosis. In order to severity we have NL (normal), MCI (mild cognitive impairment), and Dementia"
   ]
  },
  {
   "cell_type": "markdown",
   "metadata": {},
   "source": [
    "__Exercise 1 (2 pts).__ Estimate mean and standard deviation for the classification accuracy of the algorithms Logistic Regression and Nearest Neighbours classifier for predicting clinical diagnosis based on the variables Hippocampus_volume, AGE, PTGENDER, PTEDUCAT, ADAS11, and FDG. (use at least 1000 repetitions)"
   ]
  },
  {
   "cell_type": "code",
   "execution_count": 3,
   "metadata": {},
   "outputs": [
    {
     "name": "stdout",
     "output_type": "stream",
     "text": [
      "y before .codes : ['Dementia' 'MCI' 'NL']\n",
      "y after .codes : [0 1 2]\n"
     ]
    },
    {
     "data": {
      "text/html": [
       "<div>\n",
       "<style scoped>\n",
       "    .dataframe tbody tr th:only-of-type {\n",
       "        vertical-align: middle;\n",
       "    }\n",
       "\n",
       "    .dataframe tbody tr th {\n",
       "        vertical-align: top;\n",
       "    }\n",
       "\n",
       "    .dataframe thead th {\n",
       "        text-align: right;\n",
       "    }\n",
       "</style>\n",
       "<table border=\"1\" class=\"dataframe\">\n",
       "  <thead>\n",
       "    <tr style=\"text-align: right;\">\n",
       "      <th></th>\n",
       "      <th>Hippocampus_volume</th>\n",
       "      <th>AGE</th>\n",
       "      <th>PTGENDER</th>\n",
       "      <th>PTEDUCAT</th>\n",
       "      <th>ADAS11</th>\n",
       "      <th>FDG</th>\n",
       "    </tr>\n",
       "  </thead>\n",
       "  <tbody>\n",
       "    <tr>\n",
       "      <th>0</th>\n",
       "      <td>0.004200</td>\n",
       "      <td>74.3</td>\n",
       "      <td>1</td>\n",
       "      <td>16</td>\n",
       "      <td>10.67</td>\n",
       "      <td>1.369264</td>\n",
       "    </tr>\n",
       "    <tr>\n",
       "      <th>1</th>\n",
       "      <td>0.002769</td>\n",
       "      <td>81.3</td>\n",
       "      <td>1</td>\n",
       "      <td>18</td>\n",
       "      <td>22.00</td>\n",
       "      <td>1.090790</td>\n",
       "    </tr>\n",
       "    <tr>\n",
       "      <th>2</th>\n",
       "      <td>0.004312</td>\n",
       "      <td>73.7</td>\n",
       "      <td>1</td>\n",
       "      <td>16</td>\n",
       "      <td>8.67</td>\n",
       "      <td>1.297990</td>\n",
       "    </tr>\n",
       "  </tbody>\n",
       "</table>\n",
       "</div>"
      ],
      "text/plain": [
       "   Hippocampus_volume   AGE  PTGENDER  PTEDUCAT  ADAS11       FDG\n",
       "0            0.004200  74.3         1        16   10.67  1.369264\n",
       "1            0.002769  81.3         1        18   22.00  1.090790\n",
       "2            0.004312  73.7         1        16    8.67  1.297990"
      ]
     },
     "execution_count": 3,
     "metadata": {},
     "output_type": "execute_result"
    }
   ],
   "source": [
    "selected_var=['Hippocampus_volume', 'AGE', 'PTGENDER', 'PTEDUCAT', 'ADAS11','FDG']\n",
    "\n",
    "target=\"DX\"\n",
    "\n",
    "n_iters=1000\n",
    "\n",
    "X = dataset[selected_var]\n",
    "print(\"y before .codes :\",np.unique(dataset[target]))\n",
    "y = pd.Categorical(dataset[target]).codes #code to only get Integers instead of NL, Dementia, MCI\n",
    "print(\"y after .codes :\",np.unique(y))\n",
    "\n",
    "X.head(3)"
   ]
  },
  {
   "cell_type": "code",
   "execution_count": 4,
   "metadata": {},
   "outputs": [],
   "source": [
    "lr = LogisticRegression()\n",
    "knn = KNeighborsClassifier()\n",
    "RKFold = RepeatedKFold(n_splits=2, n_repeats=n_iters)\n",
    "\n",
    "knn_accuracies=[]\n",
    "lr_accuracies=[]"
   ]
  },
  {
   "cell_type": "code",
   "execution_count": 5,
   "metadata": {},
   "outputs": [
    {
     "name": "stdout",
     "output_type": "stream",
     "text": [
      "CPU times: total: 1min 20s\n",
      "Wall time: 1min 52s\n"
     ]
    }
   ],
   "source": [
    "%%time\n",
    "warnings.filterwarnings('ignore')\n",
    "\n",
    "for train, test in RKFold.split(X, y):\n",
    "    X_train, y_train = X.iloc[train], y[train]\n",
    "    X_test, y_test = X.iloc[test], y[test]\n",
    "\n",
    "    #LogReg part\n",
    "    lr.fit(X_train, y_train)\n",
    "    y_pred_lr = lr.predict(X_test)\n",
    "    lr_accuracies.append(accuracy_score(y_test, y_pred_lr))\n",
    "\n",
    "    #Knn part\n",
    "    knn.fit(X_train, y_train)\n",
    "    y_pred_knn = knn.predict(X_test)\n",
    "    knn_accuracies.append(accuracy_score(y_test, y_pred_knn))\n",
    "\n",
    "    \n"
   ]
  },
  {
   "cell_type": "code",
   "execution_count": 6,
   "metadata": {},
   "outputs": [
    {
     "name": "stdout",
     "output_type": "stream",
     "text": [
      "Mean for linear regression accuracy : 0.6606584134436247\n",
      "Standard deviation for linear regression accuracy : 0.014765709204582748\n",
      "\n",
      "Mean for linear K Nearest Neighbours : 0.622287616128872\n",
      "Standard deviation for linear K Nearest Neighbours : 0.016086846815641584\n"
     ]
    }
   ],
   "source": [
    "lr_accuracy_mean=np.mean(lr_accuracies)\n",
    "lr_accuracy_std=np.std(lr_accuracies)\n",
    "\n",
    "knn_accuracy_mean=np.mean(knn_accuracies)\n",
    "knn_accuracy_std=np.std(knn_accuracies)\n",
    "\n",
    "print(\"Mean for linear regression accuracy :\",lr_accuracy_mean)\n",
    "print(\"Standard deviation for linear regression accuracy :\",lr_accuracy_std)\n",
    "print(\"\\nMean for linear K Nearest Neighbours :\",knn_accuracy_mean)\n",
    "print(\"Standard deviation for linear K Nearest Neighbours :\",knn_accuracy_std)"
   ]
  },
  {
   "cell_type": "code",
   "execution_count": null,
   "metadata": {},
   "outputs": [],
   "source": []
  },
  {
   "cell_type": "markdown",
   "metadata": {},
   "source": [
    "__Exercise 2 (1.5 pts).__ Use boostrap to estimate the significance of the difference between the accuracy of Logistic regression and the one of Nearest Neighbours."
   ]
  },
  {
   "cell_type": "markdown",
   "metadata": {},
   "source": [
    "Re initialie the models :"
   ]
  },
  {
   "cell_type": "code",
   "execution_count": 7,
   "metadata": {},
   "outputs": [],
   "source": [
    "lr = LogisticRegression()\n",
    "knn = KNeighborsClassifier()"
   ]
  },
  {
   "cell_type": "code",
   "execution_count": null,
   "metadata": {},
   "outputs": [],
   "source": []
  },
  {
   "cell_type": "code",
   "execution_count": 8,
   "metadata": {},
   "outputs": [],
   "source": [
    "def compute_t(x, y):\n",
    "    mean_x = np.mean(x)\n",
    "    mean_y = np.mean(y)\n",
    "    sigma2_x = np.var(x)\n",
    "    sigma2_y = np.var(y)\n",
    "    return (mean_x - mean_y) / np.sqrt(sigma2_x / len(x) + sigma2_y / len(y))\n"
   ]
  },
  {
   "cell_type": "markdown",
   "metadata": {},
   "source": [
    "centered data of X & y"
   ]
  },
  {
   "cell_type": "code",
   "execution_count": 9,
   "metadata": {},
   "outputs": [],
   "source": [
    "def concatenate_data(x, y):\n",
    "    z = np.concatenate([x, y])\n",
    "    mean_x = np.mean(x)\n",
    "    mean_y = np.mean(y)\n",
    "    x_tilde = x - mean_x + np.mean(z)\n",
    "    y_tilde = y - mean_y + np.mean(z)\n",
    "    return x_tilde, y_tilde\n"
   ]
  },
  {
   "cell_type": "code",
   "execution_count": null,
   "metadata": {},
   "outputs": [],
   "source": []
  },
  {
   "cell_type": "code",
   "execution_count": 10,
   "metadata": {},
   "outputs": [],
   "source": [
    "def boot_t_calculate(x, y, repetitions):\n",
    "\n",
    "    n_x = len(x)\n",
    "    n_y = len(y)\n",
    "    t_bootstrapped = []\n",
    "    #Centerd Data\n",
    "    x_tilde, y_tilde = concatenate_data(x, y)\n",
    "    #Centered data concat\n",
    "    z_tilde = np.concatenate([x_tilde, y_tilde])\n",
    "    #Generation of B bootstrapped samples\n",
    "    bootstrapped_samples = np.random.choice(z_tilde, \n",
    "                                            (repetitions, n_x + n_y), \n",
    "                                            replace=True)\n",
    "    #Computation of t stat for the bootstrappeds sample\n",
    "    for i in range(repetitions):\n",
    "        x_simulated = bootstrapped_samples[i, :n_x]\n",
    "        y_simulated = bootstrapped_samples[i, n_x:]\n",
    "        t_bootstrapped.append(compute_t(x_simulated, y_simulated))\n",
    "    return t_bootstrapped"
   ]
  },
  {
   "cell_type": "code",
   "execution_count": 11,
   "metadata": {},
   "outputs": [],
   "source": [
    "def hypo_test(t_obs, t_boot, repetitions):\n",
    "\n",
    "    #Computes the significance of our test with confidence interval :\n",
    "    boot_stat = np.sum(np.abs(t_obs)>np.abs(t_boot))/repetitions\n",
    "    confidence_interval = np.quantile(t_boot, [0.025, 0.975])\n",
    "    #Print the results :\n",
    "    print(f\"The 2-sided bootstrapped p-value (significance of the test) is: {1-boot_stat}\")\n",
    "    print(f\"The 95% coinfidence interval for the null hypothesis: {confidence_interval}\")\n",
    "    print(f\"Observed statistic: {t_obs}\")\n",
    "    if t_obs >= confidence_interval[0] and t_obs <= confidence_interval[1]:\n",
    "        print(\"\\nWe cannot reject the null hypothesis \\n==> The accuracy mean for the Logistic Regression model is the same \" + \n",
    "              \"as the accuracy mean for the k-Nearest Neighbor model.\")\n",
    "    else:\n",
    "        print(\"\\nWe can reject the null hypothesis \\n==> The accuracy mean for the Logistic Regression model is different \" + \n",
    "              \"from the k-Nearest Neighbor model.\")\n"
   ]
  },
  {
   "cell_type": "code",
   "execution_count": 12,
   "metadata": {
    "scrolled": true
   },
   "outputs": [
    {
     "data": {
      "image/png": "[encoded data removed]",
      "text/plain": [
       "<Figure size 2000x600 with 1 Axes>"
      ]
     },
     "metadata": {},
     "output_type": "display_data"
    }
   ],
   "source": [
    "t_observed = compute_t(lr_accuracies,knn_accuracies)\n",
    "t_bootstrapped = boot_t_calculate(lr_accuracies,knn_accuracies, n_iters)\n",
    "\n",
    "\n",
    "\n",
    "plt.figure(figsize=(20,6))\n",
    "plt.hist(t_bootstrapped, 10, histtype='step')\n",
    "plt.title('Null distribution')\n",
    "plt.axvline(x=t_observed)\n",
    "plt.show()\n"
   ]
  },
  {
   "cell_type": "code",
   "execution_count": 13,
   "metadata": {
    "scrolled": true
   },
   "outputs": [
    {
     "name": "stdout",
     "output_type": "stream",
     "text": [
      "The 2-sided bootstrapped p-value (significance of the test) is: 0.0\n",
      "The 95% coinfidence interval for the null hypothesis: [-1.91077317  1.86321028]\n",
      "Observed statistic: 78.58539938564265\n",
      "\n",
      "We can reject the null hypothesis \n",
      "==> The accuracy mean for the Logistic Regression model is different from the k-Nearest Neighbor model.\n"
     ]
    }
   ],
   "source": [
    "hypo_test(t_observed, t_bootstrapped, n_iters)"
   ]
  },
  {
   "cell_type": "markdown",
   "metadata": {},
   "source": [
    "__Exercise 3 (2 pts).__ Use the information criteria to decide what is the best polynomial model that explains the relatioship between FDG (predictor) and ADAS11 (target) in the group MCI? And in the group NL? "
   ]
  },
  {
   "cell_type": "markdown",
   "metadata": {},
   "source": [
    "I will use BIC, AIC and AICc as information criteria.\n",
    "\n",
    "1st, let's reduce the dataset :"
   ]
  },
  {
   "cell_type": "code",
   "execution_count": 14,
   "metadata": {},
   "outputs": [],
   "source": [
    "reduced_df = dataset[[\"FDG\", \"ADAS11\", \"DX\"]]"
   ]
  },
  {
   "cell_type": "markdown",
   "metadata": {},
   "source": [
    "Take only the rows where DX == Given group and then drop the column DX to only have the features whose relationship is to be explained"
   ]
  },
  {
   "cell_type": "code",
   "execution_count": 15,
   "metadata": {},
   "outputs": [],
   "source": [
    "NL_df = reduced_df[reduced_df['DX'] == \"NL\"].drop(columns=[\"DX\"])\n",
    "MCI_df = reduced_df[reduced_df['DX'] == \"MCI\"].drop(columns=[\"DX\"])"
   ]
  },
  {
   "cell_type": "markdown",
   "metadata": {},
   "source": [
    "Compute the Gaussian log-likelihood :\n"
   ]
  },
  {
   "cell_type": "code",
   "execution_count": 16,
   "metadata": {},
   "outputs": [],
   "source": [
    "def Gaussian_loglik(x,y,w,sigma2):\n",
    "\n",
    "    N = len(y)\n",
    "    ll = -N/2 * np.log(2*np.pi*sigma2) - 1/(2*sigma2) * np.sum((y-x.dot(w.T))**2)\n",
    "    return ll"
   ]
  },
  {
   "cell_type": "markdown",
   "metadata": {},
   "source": [
    "Fit a polymonial model :"
   ]
  },
  {
   "cell_type": "code",
   "execution_count": 17,
   "metadata": {},
   "outputs": [],
   "source": [
    "def fit_poly(x,y,d):\n",
    "    w_ml = np.linalg.solve(x.T.dot(x),x.T.dot(y))\n",
    "    w_ml.reshape(1,(len(w_ml)))\n",
    "    sigma2_ml = np.mean((y-x.dot(w_ml.T))**2)\n",
    "    return w_ml, sigma2_ml"
   ]
  },
  {
   "cell_type": "markdown",
   "metadata": {},
   "source": [
    "Grid search on a polynomial model"
   ]
  },
  {
   "cell_type": "code",
   "execution_count": 18,
   "metadata": {},
   "outputs": [],
   "source": [
    "def poly_search(x, y, d):\n",
    "    loglik = []\n",
    "    AIC = []\n",
    "    AICc = []\n",
    "    BIC = []\n",
    "    for d in range(1,d):\n",
    "        x_poly = np.array([x**i for i in range(d)]).T\n",
    "        w_ml, sigma2_ml = fit_poly(x_poly,y,d)\n",
    "        loglik.append(Gaussian_loglik(x_poly,y,w_ml,sigma2_ml))\n",
    "        dev = -2*np.array(Gaussian_loglik(x_poly, y, w_ml, sigma2_ml))\n",
    "        AIC.append(dev+2*len(w_ml))\n",
    "        BIC.append(dev+2*len(w_ml)*np.log(len(x)))\n",
    "        AICc.append(dev+2*len(w_ml) + 2*d + 2.*d*(d+1)/(x.shape[0]-d-1))\n",
    "    return AIC, AICc, BIC"
   ]
  },
  {
   "cell_type": "markdown",
   "metadata": {},
   "source": [
    "Let's apply and plot the functions for both group :"
   ]
  },
  {
   "cell_type": "code",
   "execution_count": 19,
   "metadata": {},
   "outputs": [
    {
     "data": {
      "image/png": "[encoded data removed]",
      "text/plain": [
       "<Figure size 640x480 with 1 Axes>"
      ]
     },
     "metadata": {},
     "output_type": "display_data"
    }
   ],
   "source": [
    "degrees = 10\n",
    "AIC, AICc, BIC = poly_search(MCI_df[\"FDG\"], MCI_df[\"ADAS11\"], degrees)\n",
    "\n",
    "plt.plot(range(1,degrees), AIC, label = \"AIC\")\n",
    "plt.ylabel('Information Criteria')\n",
    "plt.plot(range(1,degrees), AICc, label = \"AICc\")\n",
    "plt.plot(range(1,degrees), BIC, label = \"BIC\")\n",
    "plt.xlabel('polynomial degree')\n",
    "plt.legend()\n",
    "plt.show()"
   ]
  },
  {
   "cell_type": "markdown",
   "metadata": {},
   "source": [
    "Here, we have multiple choice, we obsere that :\n",
    "\n",
    "    - The best polynomial degree for BIC is 2\n",
    "    \n",
    "    - The best polynomial degree for AICc is 2\n",
    "    \n",
    "    - The best polynomial degree for AIC is 5\n",
    "    \n",
    "In lesson 8, we have seen that :\n",
    "\n",
    "We note that when $N$ is very large, the AICc converges to AIC, while the correction factor will be more relevant for small sample sizes. The rule of thumb for using AICc is when the ratio $\\frac{N}{N_{parameters}}$ is less than 40, and in general, AICc is always preferred to AIC.\n",
    "\n",
    "\n",
    "**Thus, here, we can focus on AICc and BIC and in this case,the best model to chose is a model with polynomial degree = 2**\n",
    "    \n",
    "    "
   ]
  },
  {
   "cell_type": "code",
   "execution_count": 20,
   "metadata": {},
   "outputs": [
    {
     "data": {
      "image/png": "[encoded data removed]",
      "text/plain": [
       "<Figure size 640x480 with 1 Axes>"
      ]
     },
     "metadata": {},
     "output_type": "display_data"
    }
   ],
   "source": [
    "AIC, AICc, BIC = poly_search(NL_df[\"FDG\"], NL_df[\"ADAS11\"], degrees)\n",
    "\n",
    "plt.plot(range(1,degrees), AIC, label = \"AIC\")\n",
    "plt.ylabel('Information Criteria')\n",
    "plt.plot(range(1,degrees), AICc, label = \"AICc\")\n",
    "plt.plot(range(1,degrees), BIC, label = \"BIC\")\n",
    "plt.xlabel('polynomial degree')\n",
    "plt.legend()\n",
    "plt.show()"
   ]
  },
  {
   "cell_type": "markdown",
   "metadata": {},
   "source": [
    "In this case, we obsere that :\n",
    "\n",
    "    - The best polynomial degree for BIC is 1\n",
    "    \n",
    "    - The best polynomial degree for AICc is 2\n",
    "    \n",
    "    - The best polynomial degree for AIC is 2\n",
    "    \n",
    "The BIC is constantly increasing since the 1st kernel so it not really relevant, **thus we can focus on AICc and AIC that tells us that we profer to chose a model with polynomial degree = 2**"
   ]
  },
  {
   "cell_type": "markdown",
   "metadata": {},
   "source": [
    "__Exercise 4 (1.5 pts).__ What is the best combination of variables (excluded DX) for predicting ADAS11 with a linear model?"
   ]
  },
  {
   "cell_type": "markdown",
   "metadata": {},
   "source": [
    "Define new target"
   ]
  },
  {
   "cell_type": "code",
   "execution_count": 21,
   "metadata": {},
   "outputs": [],
   "source": [
    "target = dataset[[\"ADAS11\"]]\n"
   ]
  },
  {
   "cell_type": "markdown",
   "metadata": {},
   "source": [
    "Drop target and excluded DX"
   ]
  },
  {
   "cell_type": "code",
   "execution_count": 22,
   "metadata": {},
   "outputs": [],
   "source": [
    "question4 = dataset.drop(columns=[\"ADAS11\", \"DX\"])"
   ]
  },
  {
   "cell_type": "code",
   "execution_count": 23,
   "metadata": {},
   "outputs": [
    {
     "data": {
      "text/plain": [
       "Index(['Unnamed: 0', 'RID', 'Hippocampus_volume', 'AGE', 'PTGENDER',\n",
       "       'PTEDUCAT', 'FDG'],\n",
       "      dtype='object')"
      ]
     },
     "execution_count": 23,
     "metadata": {},
     "output_type": "execute_result"
    }
   ],
   "source": [
    "question4.columns"
   ]
  },
  {
   "cell_type": "code",
   "execution_count": 24,
   "metadata": {},
   "outputs": [],
   "source": [
    "nb_cols = len(question4.columns)"
   ]
  },
  {
   "cell_type": "markdown",
   "metadata": {},
   "source": [
    "Redefine fit poly without de degree parameter"
   ]
  },
  {
   "cell_type": "code",
   "execution_count": 25,
   "metadata": {},
   "outputs": [],
   "source": [
    "def fit_poly2(x,y):\n",
    "    w_ml = np.linalg.solve(x.T.dot(x),x.T.dot(y))\n",
    "    w_ml.reshape(1,(len(w_ml)))\n",
    "    sigma2_ml = np.mean((y-x.dot(w_ml))**2)\n",
    "    return w_ml, sigma2_ml"
   ]
  },
  {
   "cell_type": "code",
   "execution_count": 26,
   "metadata": {},
   "outputs": [],
   "source": [
    "def Gaussian_loglik(x,y,w,sigma2):\n",
    "    N = len(y)\n",
    "    ll = -N/2 * np.log(2*np.pi*sigma2) - 1/(2*sigma2) * np.sum((y-x.dot(w))**2)\n",
    "    return ll"
   ]
  },
  {
   "cell_type": "code",
   "execution_count": 27,
   "metadata": {},
   "outputs": [],
   "source": [
    "#code lesson8\n",
    "def compare_tables(features, target, max_number_of_columns):\n",
    "    AIC = []\n",
    "    AICc = []\n",
    "    BIC = []\n",
    "    model = []\n",
    "    ll = []\n",
    "    coef = []\n",
    "    sigma2 = []\n",
    "\n",
    "    # For each number of parameters in the model\n",
    "    for n_elements in range(1,10):\n",
    "        # For each combination of variables\n",
    "        for indices in itertools.combinations(range(max_number_of_columns), n_elements):\n",
    "\n",
    "            # Store the indices corresponding to the parameters\n",
    "            model.append(indices)\n",
    "            # Fit the model\n",
    "            x_train = features.values[:,indices].reshape(features.values.shape[0],n_elements)\n",
    "            w_ml, sigma2_ml = fit_poly2(x_train, target.values)\n",
    "\n",
    "            # compute the log-likelihhod\n",
    "            training_ll = Gaussian_loglik(x_train,target,w_ml,sigma2_ml)\n",
    "\n",
    "            # store the coefficients\n",
    "            coefficients = np.zeros(max_number_of_columns)\n",
    "            coefficients[[indices]] = w_ml.T        \n",
    "            coef.append(coefficients)\n",
    "            sigma2.append(sigma2_ml)\n",
    "\n",
    "            # store all the metrics\n",
    "            ll.append(float(-training_ll))\n",
    "            AIC.append(float(-2*training_ll + 2*n_elements))\n",
    "            AICc.append(float(-2*training_ll + 2*n_elements + 2.*n_elements*(n_elements+1)/(features.values.shape[0]-n_elements-1)))\n",
    "            BIC.append(float(-2*training_ll + 2*n_elements*np.log(features.values.shape[0])))\n",
    "\n",
    "    results = pd.DataFrame({'model': model, 'AIC': AIC, 'AICc': AICc, 'BIC' :BIC, \n",
    "                            'neg_loglik' : ll, 'coef' : coef, 'sigma2' : sigma2})  \n",
    "    return results"
   ]
  },
  {
   "cell_type": "code",
   "execution_count": 28,
   "metadata": {},
   "outputs": [],
   "source": [
    "\n",
    "results = compare_tables(question4, target, nb_cols)"
   ]
  },
  {
   "cell_type": "code",
   "execution_count": 29,
   "metadata": {},
   "outputs": [],
   "source": [
    "results.sort_values('AIC', ascending = True, inplace = True)\n",
    "results.reset_index(inplace = True)\n",
    "model_comparison = results[['model', 'AIC', 'AICc', 'BIC', 'neg_loglik']]\n",
    "\n",
    "fitted_models = results[['model', 'coef', 'sigma2']]"
   ]
  },
  {
   "cell_type": "code",
   "execution_count": 30,
   "metadata": {},
   "outputs": [
    {
     "data": {
      "text/html": [
       "<div>\n",
       "<style scoped>\n",
       "    .dataframe tbody tr th:only-of-type {\n",
       "        vertical-align: middle;\n",
       "    }\n",
       "\n",
       "    .dataframe tbody tr th {\n",
       "        vertical-align: top;\n",
       "    }\n",
       "\n",
       "    .dataframe thead th {\n",
       "        text-align: right;\n",
       "    }\n",
       "</style>\n",
       "<table border=\"1\" class=\"dataframe\">\n",
       "  <thead>\n",
       "    <tr style=\"text-align: right;\">\n",
       "      <th></th>\n",
       "      <th>model</th>\n",
       "      <th>AIC</th>\n",
       "      <th>AICc</th>\n",
       "      <th>BIC</th>\n",
       "      <th>neg_loglik</th>\n",
       "      <th>d</th>\n",
       "    </tr>\n",
       "  </thead>\n",
       "  <tbody>\n",
       "    <tr>\n",
       "      <th>0</th>\n",
       "      <td>(0, 1, 2, 3, 4, 5, 6)</td>\n",
       "      <td>7263.717611</td>\n",
       "      <td>7263.816990</td>\n",
       "      <td>7348.199042</td>\n",
       "      <td>3624.858805</td>\n",
       "      <td>0.000000</td>\n",
       "    </tr>\n",
       "    <tr>\n",
       "      <th>1</th>\n",
       "      <td>(0, 2, 3, 4, 5, 6)</td>\n",
       "      <td>7270.892307</td>\n",
       "      <td>7270.966775</td>\n",
       "      <td>7343.304962</td>\n",
       "      <td>3629.446153</td>\n",
       "      <td>7.174696</td>\n",
       "    </tr>\n",
       "    <tr>\n",
       "      <th>2</th>\n",
       "      <td>(0, 1, 2, 3, 5, 6)</td>\n",
       "      <td>7272.046014</td>\n",
       "      <td>7272.120482</td>\n",
       "      <td>7344.458669</td>\n",
       "      <td>3630.023007</td>\n",
       "      <td>8.328403</td>\n",
       "    </tr>\n",
       "    <tr>\n",
       "      <th>3</th>\n",
       "      <td>(0, 1, 2, 3, 4, 6)</td>\n",
       "      <td>7275.641804</td>\n",
       "      <td>7275.716272</td>\n",
       "      <td>7348.054459</td>\n",
       "      <td>3631.820902</td>\n",
       "      <td>11.924193</td>\n",
       "    </tr>\n",
       "    <tr>\n",
       "      <th>4</th>\n",
       "      <td>(0, 1, 3, 4, 5, 6)</td>\n",
       "      <td>7277.684523</td>\n",
       "      <td>7277.758991</td>\n",
       "      <td>7350.097178</td>\n",
       "      <td>3632.842262</td>\n",
       "      <td>13.966913</td>\n",
       "    </tr>\n",
       "    <tr>\n",
       "      <th>...</th>\n",
       "      <td>...</td>\n",
       "      <td>...</td>\n",
       "      <td>...</td>\n",
       "      <td>...</td>\n",
       "      <td>...</td>\n",
       "      <td>...</td>\n",
       "    </tr>\n",
       "    <tr>\n",
       "      <th>95</th>\n",
       "      <td>(5,)</td>\n",
       "      <td>7710.518349</td>\n",
       "      <td>7710.521879</td>\n",
       "      <td>7722.587125</td>\n",
       "      <td>3854.259174</td>\n",
       "      <td>446.800738</td>\n",
       "    </tr>\n",
       "    <tr>\n",
       "      <th>96</th>\n",
       "      <td>(0, 1, 2, 4, 6)</td>\n",
       "      <td>7711.948037</td>\n",
       "      <td>7712.001182</td>\n",
       "      <td>7772.291917</td>\n",
       "      <td>3850.974019</td>\n",
       "      <td>448.230427</td>\n",
       "    </tr>\n",
       "    <tr>\n",
       "      <th>97</th>\n",
       "      <td>(0, 1, 4, 6)</td>\n",
       "      <td>7725.759789</td>\n",
       "      <td>7725.795188</td>\n",
       "      <td>7774.034893</td>\n",
       "      <td>3858.879895</td>\n",
       "      <td>462.042179</td>\n",
       "    </tr>\n",
       "    <tr>\n",
       "      <th>98</th>\n",
       "      <td>(0, 1, 2, 6)</td>\n",
       "      <td>7729.309798</td>\n",
       "      <td>7729.345196</td>\n",
       "      <td>7777.584902</td>\n",
       "      <td>3860.654899</td>\n",
       "      <td>465.592188</td>\n",
       "    </tr>\n",
       "    <tr>\n",
       "      <th>99</th>\n",
       "      <td>(0, 1, 4)</td>\n",
       "      <td>7730.694930</td>\n",
       "      <td>7730.716150</td>\n",
       "      <td>7766.901257</td>\n",
       "      <td>3862.347465</td>\n",
       "      <td>466.977319</td>\n",
       "    </tr>\n",
       "  </tbody>\n",
       "</table>\n",
       "<p>100 rows × 6 columns</p>\n",
       "</div>"
      ],
      "text/plain": [
       "                    model          AIC         AICc          BIC   neg_loglik  \\\n",
       "0   (0, 1, 2, 3, 4, 5, 6)  7263.717611  7263.816990  7348.199042  3624.858805   \n",
       "1      (0, 2, 3, 4, 5, 6)  7270.892307  7270.966775  7343.304962  3629.446153   \n",
       "2      (0, 1, 2, 3, 5, 6)  7272.046014  7272.120482  7344.458669  3630.023007   \n",
       "3      (0, 1, 2, 3, 4, 6)  7275.641804  7275.716272  7348.054459  3631.820902   \n",
       "4      (0, 1, 3, 4, 5, 6)  7277.684523  7277.758991  7350.097178  3632.842262   \n",
       "..                    ...          ...          ...          ...          ...   \n",
       "95                   (5,)  7710.518349  7710.521879  7722.587125  3854.259174   \n",
       "96        (0, 1, 2, 4, 6)  7711.948037  7712.001182  7772.291917  3850.974019   \n",
       "97           (0, 1, 4, 6)  7725.759789  7725.795188  7774.034893  3858.879895   \n",
       "98           (0, 1, 2, 6)  7729.309798  7729.345196  7777.584902  3860.654899   \n",
       "99              (0, 1, 4)  7730.694930  7730.716150  7766.901257  3862.347465   \n",
       "\n",
       "             d  \n",
       "0     0.000000  \n",
       "1     7.174696  \n",
       "2     8.328403  \n",
       "3    11.924193  \n",
       "4    13.966913  \n",
       "..         ...  \n",
       "95  446.800738  \n",
       "96  448.230427  \n",
       "97  462.042179  \n",
       "98  465.592188  \n",
       "99  466.977319  \n",
       "\n",
       "[100 rows x 6 columns]"
      ]
     },
     "execution_count": 30,
     "metadata": {},
     "output_type": "execute_result"
    }
   ],
   "source": [
    "differences_wrt_minimum = model_comparison.AIC - model_comparison.AIC[0]\n",
    "model_comparison.insert(len(model_comparison.columns), 'd', differences_wrt_minimum)\n",
    "model_comparison[:100]\n"
   ]
  },
  {
   "cell_type": "code",
   "execution_count": 31,
   "metadata": {},
   "outputs": [
    {
     "name": "stdout",
     "output_type": "stream",
     "text": [
      "Index(['Unnamed: 0', 'RID', 'Hippocampus_volume', 'AGE', 'PTGENDER',\n",
      "       'PTEDUCAT', 'FDG'],\n",
      "      dtype='object')\n"
     ]
    }
   ],
   "source": [
    "print(question4.columns)"
   ]
  },
  {
   "cell_type": "markdown",
   "metadata": {},
   "source": [
    "In the case where we want to rely on the AIC and/or AICc, we chose the first line because it the the line with AIC and AIcc minimum, and in this case, all the features are selected."
   ]
  },
  {
   "cell_type": "code",
   "execution_count": 32,
   "metadata": {},
   "outputs": [
    {
     "data": {
      "text/html": [
       "<div>\n",
       "<style scoped>\n",
       "    .dataframe tbody tr th:only-of-type {\n",
       "        vertical-align: middle;\n",
       "    }\n",
       "\n",
       "    .dataframe tbody tr th {\n",
       "        vertical-align: top;\n",
       "    }\n",
       "\n",
       "    .dataframe thead th {\n",
       "        text-align: right;\n",
       "    }\n",
       "</style>\n",
       "<table border=\"1\" class=\"dataframe\">\n",
       "  <thead>\n",
       "    <tr style=\"text-align: right;\">\n",
       "      <th></th>\n",
       "      <th>model</th>\n",
       "      <th>AIC</th>\n",
       "      <th>AICc</th>\n",
       "      <th>BIC</th>\n",
       "      <th>neg_loglik</th>\n",
       "      <th>d</th>\n",
       "    </tr>\n",
       "  </thead>\n",
       "  <tbody>\n",
       "    <tr>\n",
       "      <th>0</th>\n",
       "      <td>(0, 1, 2, 3, 4, 5, 6)</td>\n",
       "      <td>7263.717611</td>\n",
       "      <td>7263.81699</td>\n",
       "      <td>7348.199042</td>\n",
       "      <td>3624.858805</td>\n",
       "      <td>0.0</td>\n",
       "    </tr>\n",
       "  </tbody>\n",
       "</table>\n",
       "</div>"
      ],
      "text/plain": [
       "                   model          AIC        AICc          BIC   neg_loglik  \\\n",
       "0  (0, 1, 2, 3, 4, 5, 6)  7263.717611  7263.81699  7348.199042  3624.858805   \n",
       "\n",
       "     d  \n",
       "0  0.0  "
      ]
     },
     "execution_count": 32,
     "metadata": {},
     "output_type": "execute_result"
    }
   ],
   "source": [
    "model_comparison[model_comparison['AIC']==min(model_comparison['AIC'])]"
   ]
  },
  {
   "cell_type": "markdown",
   "metadata": {},
   "source": [
    "In the case where we want to rely on BIC, we chose the line where BIC is min :"
   ]
  },
  {
   "cell_type": "code",
   "execution_count": 33,
   "metadata": {},
   "outputs": [
    {
     "data": {
      "text/html": [
       "<div>\n",
       "<style scoped>\n",
       "    .dataframe tbody tr th:only-of-type {\n",
       "        vertical-align: middle;\n",
       "    }\n",
       "\n",
       "    .dataframe tbody tr th {\n",
       "        vertical-align: top;\n",
       "    }\n",
       "\n",
       "    .dataframe thead th {\n",
       "        text-align: right;\n",
       "    }\n",
       "</style>\n",
       "<table border=\"1\" class=\"dataframe\">\n",
       "  <thead>\n",
       "    <tr style=\"text-align: right;\">\n",
       "      <th></th>\n",
       "      <th>model</th>\n",
       "      <th>AIC</th>\n",
       "      <th>AICc</th>\n",
       "      <th>BIC</th>\n",
       "      <th>neg_loglik</th>\n",
       "      <th>d</th>\n",
       "    </tr>\n",
       "  </thead>\n",
       "  <tbody>\n",
       "    <tr>\n",
       "      <th>20</th>\n",
       "      <td>(0, 3, 6)</td>\n",
       "      <td>7295.715367</td>\n",
       "      <td>7295.736587</td>\n",
       "      <td>7331.921695</td>\n",
       "      <td>3644.857684</td>\n",
       "      <td>31.997756</td>\n",
       "    </tr>\n",
       "  </tbody>\n",
       "</table>\n",
       "</div>"
      ],
      "text/plain": [
       "        model          AIC         AICc          BIC   neg_loglik          d\n",
       "20  (0, 3, 6)  7295.715367  7295.736587  7331.921695  3644.857684  31.997756"
      ]
     },
     "execution_count": 33,
     "metadata": {},
     "output_type": "execute_result"
    }
   ],
   "source": [
    "model_comparison[model_comparison['BIC']==min(model_comparison['BIC'])]"
   ]
  },
  {
   "cell_type": "markdown",
   "metadata": {},
   "source": [
    "Thus, in this case, the best set of features is : 'Unamed: 0', 'AGE' and 'FDG'"
   ]
  },
  {
   "cell_type": "markdown",
   "metadata": {},
   "source": [
    "__Exercise 5 (1 pts).__ Consider only the healtiest subjects for which diagnosis == NL and ADAS11 < 5. Compare the performance of the classifiers of Exercise 1 for discriminating this group from the group MCI."
   ]
  },
  {
   "cell_type": "code",
   "execution_count": 34,
   "metadata": {},
   "outputs": [],
   "source": [
    "target = \"DX\""
   ]
  },
  {
   "cell_type": "markdown",
   "metadata": {},
   "source": [
    "Redcucing dataset\n",
    "\n",
    "Here, I also took DX == MCI because otherwhise there is nothing to classify as the target is always the same in the training set and we cannot fit.\n",
    "\n",
    "The error was :\n",
    "\n",
    "`This solver needs samples of at least 2 classes in the data, but the data contains only one class: 0`"
   ]
  },
  {
   "cell_type": "code",
   "execution_count": 35,
   "metadata": {},
   "outputs": [],
   "source": [
    "#healthy_dataset = dataset[(dataset['DX'] == 'NL') & (dataset['ADAS11'] < 5)]\n",
    "healthy_dataset = dataset[((dataset['DX'] == 'NL') | (dataset['DX'] == 'MCI')) & (dataset['ADAS11'] < 5)]"
   ]
  },
  {
   "cell_type": "markdown",
   "metadata": {},
   "source": [
    "Creating X,y"
   ]
  },
  {
   "cell_type": "code",
   "execution_count": 36,
   "metadata": {},
   "outputs": [],
   "source": [
    "y = pd.Categorical(healthy_dataset[target]).codes\n",
    "X=healthy_dataset.drop(columns=\"DX\")"
   ]
  },
  {
   "cell_type": "code",
   "execution_count": 37,
   "metadata": {},
   "outputs": [
    {
     "data": {
      "text/plain": [
       "((186, 8), (186,))"
      ]
     },
     "execution_count": 37,
     "metadata": {},
     "output_type": "execute_result"
    }
   ],
   "source": [
    "X.shape,y.shape"
   ]
  },
  {
   "cell_type": "markdown",
   "metadata": {},
   "source": [
    "Let's take the code from question 1 :"
   ]
  },
  {
   "cell_type": "code",
   "execution_count": 38,
   "metadata": {},
   "outputs": [],
   "source": [
    "lr = LogisticRegression()\n",
    "knn = KNeighborsClassifier()\n",
    "RKFold = RepeatedKFold(n_splits=2, n_repeats=n_iters)\n",
    "\n",
    "knn_accuracies=[]\n",
    "lr_accuracies=[]"
   ]
  },
  {
   "cell_type": "code",
   "execution_count": 39,
   "metadata": {},
   "outputs": [],
   "source": [
    "for train, test in RKFold.split(X, y):\n",
    "    X_train, y_train = X.iloc[train], y[train]\n",
    "    X_test, y_test = X.iloc[test], y[test]\n",
    "\n",
    "    #LogReg part\n",
    "    lr.fit(X_train, y_train)\n",
    "    y_pred_lr = lr.predict(X_test)\n",
    "    lr_accuracies.append(accuracy_score(y_test, y_pred_lr))\n",
    "\n",
    "    #Knn part\n",
    "    knn.fit(X_train, y_train)\n",
    "    y_pred_knn = knn.predict(X_test)\n",
    "    knn_accuracies.append(accuracy_score(y_test, y_pred_knn))\n",
    "\n",
    "    "
   ]
  },
  {
   "cell_type": "code",
   "execution_count": 40,
   "metadata": {},
   "outputs": [
    {
     "name": "stdout",
     "output_type": "stream",
     "text": [
      "Mean for linear regression accuracy : 0.7460483870967741\n",
      "Standard deviation for linear regression accuracy : 0.037077591658766666\n",
      "\n",
      "Mean for linear K Nearest Neighbours : 0.767483870967742\n",
      "Standard deviation for linear K Nearest Neighbours : 0.0327765218036783\n"
     ]
    }
   ],
   "source": [
    "lr_accuracy_mean=np.mean(lr_accuracies)\n",
    "lr_accuracy_std=np.std(lr_accuracies)\n",
    "\n",
    "knn_accuracy_mean=np.mean(knn_accuracies)\n",
    "knn_accuracy_std=np.std(knn_accuracies)\n",
    "\n",
    "print(\"Mean for linear regression accuracy :\",lr_accuracy_mean)\n",
    "print(\"Standard deviation for linear regression accuracy :\",lr_accuracy_std)\n",
    "print(\"\\nMean for linear K Nearest Neighbours :\",knn_accuracy_mean)\n",
    "print(\"Standard deviation for linear K Nearest Neighbours :\",knn_accuracy_std)"
   ]
  },
  {
   "cell_type": "markdown",
   "metadata": {},
   "source": [
    "The accuracy is much better than for the non healthy patient."
   ]
  },
  {
   "cell_type": "markdown",
   "metadata": {},
   "source": [
    "__Exercise 6 (1 pts).__ Is it true that a model with the lowest AIC is the best one? "
   ]
  },
  {
   "cell_type": "markdown",
   "metadata": {},
   "source": [
    "As seen previously, taking the lowest AIC is not always the best one. We have seen in question 3 that when $N$ is very large, the AICc converges to AIC, while the correction factor will be more relevant for small sample sizes. The rule of thumb for using AICc is when the ratio $\\frac{N}{N_{parameters}}$ is less than 40, and in general, AICc is always preferred to AIC.\n",
    "\n",
    "Also, sometimes the BIC is preferable as we have seen in **`lesson 8`**, the penalty term of the BIC is larger than the one from AIC. BIC is then preferable when the model is very simple and describe the data as simple as possible."
   ]
  },
  {
   "cell_type": "code",
   "execution_count": null,
   "metadata": {},
   "outputs": [],
   "source": []
  },
  {
   "cell_type": "markdown",
   "metadata": {},
   "source": [
    "__Exercise 7 (1 pts).__ Explain the concept of bias-variance decomposition"
   ]
  },
  {
   "cell_type": "markdown",
   "metadata": {},
   "source": [
    "The $bias-variance$ is a concept created to have a better understanding of the errors in ML models especially in regression models. \n",
    "\n",
    "We know that the stability of the models with respect to the variation in the data decreases with the model complexity, when the number of parameters of a model increase, the bias decreases because we are able to fit the model in a better way.\n",
    "\n",
    "However, the variance also increase because the model needs to adapt to fit as much data as possible. When the model try to adapt this way, it is often a case of over fititing, it predicts correctly the training data but has trouble generalizing to never seen data.\n",
    "\n",
    "The concept of bias-variance decomposition is, instead of considering bias and variance separatly, we consider those together ($bias+variance$), we then look for an elbow shape in our plot that represents the best combination of these parameter :\n",
    "\n",
    "    - The bias decrease as much as possible\n",
    "    \n",
    "    - The variance does not increase too much\n",
    "\n",
    "\n",
    "**From `lesson 3`, we have that :**\n",
    "\n",
    "\n",
    "- __Bias__ is the difference between the averaged predictions over all the posible datasets and the target function (first term). \n",
    "- __Variance__ is the variance of the predictions over the possible datasets (second term). It measures the variability of the predictions respect to the change in the data.\n",
    "\n",
    "\n",
    "And those two are part of the Loss function of a model :\n",
    "\n",
    "$$\\textbf{Loss}  =  \\mathbf{Noise} + \\mathbf{Bias}^2 + \\mathbf{Variance},$$\n",
    "\n",
    "where,\n",
    "\n",
    "\\begin{align*}\n",
    "\\mathbf{Noise}    &=  \\int_x Var(y | x) \\, p(x)dx\\\\\n",
    "\\mathbf{Bias}^2   &= \\int_x (f(x) - \\mathbf{E}_\\mathcal{D}[\\hat{y\\,}])^2 \\, p(x)dx\\\\\n",
    "\\mathbf{Variance} &=  \\int_x \\mathbf{E}_\\mathcal{D}[(\\mathbf{E}_\\mathcal{D}[\\hat{y\\,}] -\\hat{y\\,})^2] \\, p(x)dx\n",
    "\\end{align*}\n",
    "\n",
    "\n",
    "As these 3 are connected, we have a tradeoff between $variance$ and $bias$, we don't use too much the noise because we cannot really control it. The objective of this $bias-variance$ tradeoff is to identify the optimal balance of model parameters where the combined effect of bias and variance is minimized, resulting in the lowest possible error rate."
   ]
  },
  {
   "cell_type": "code",
   "execution_count": null,
   "metadata": {},
   "outputs": [],
   "source": []
  },
  {
   "cell_type": "markdown",
   "metadata": {},
   "source": [
    "__Exercise 8 (1 pts).__ From Exercise 1 compute the probability that the average prediction accuracy of Logistic classifier is greater than 0.66."
   ]
  },
  {
   "cell_type": "markdown",
   "metadata": {},
   "source": [
    "I took the code from question 1 and put it here so I can work better while visualizing it :"
   ]
  },
  {
   "cell_type": "code",
   "execution_count": 66,
   "metadata": {},
   "outputs": [
    {
     "name": "stdout",
     "output_type": "stream",
     "text": [
      "y before .codes : ['Dementia' 'MCI' 'NL']\n",
      "y after .codes : [0 1 2]\n"
     ]
    },
    {
     "data": {
      "text/html": [
       "<div>\n",
       "<style scoped>\n",
       "    .dataframe tbody tr th:only-of-type {\n",
       "        vertical-align: middle;\n",
       "    }\n",
       "\n",
       "    .dataframe tbody tr th {\n",
       "        vertical-align: top;\n",
       "    }\n",
       "\n",
       "    .dataframe thead th {\n",
       "        text-align: right;\n",
       "    }\n",
       "</style>\n",
       "<table border=\"1\" class=\"dataframe\">\n",
       "  <thead>\n",
       "    <tr style=\"text-align: right;\">\n",
       "      <th></th>\n",
       "      <th>Hippocampus_volume</th>\n",
       "      <th>AGE</th>\n",
       "      <th>PTGENDER</th>\n",
       "      <th>PTEDUCAT</th>\n",
       "      <th>ADAS11</th>\n",
       "      <th>FDG</th>\n",
       "    </tr>\n",
       "  </thead>\n",
       "  <tbody>\n",
       "    <tr>\n",
       "      <th>0</th>\n",
       "      <td>0.004200</td>\n",
       "      <td>74.3</td>\n",
       "      <td>1</td>\n",
       "      <td>16</td>\n",
       "      <td>10.67</td>\n",
       "      <td>1.369264</td>\n",
       "    </tr>\n",
       "    <tr>\n",
       "      <th>1</th>\n",
       "      <td>0.002769</td>\n",
       "      <td>81.3</td>\n",
       "      <td>1</td>\n",
       "      <td>18</td>\n",
       "      <td>22.00</td>\n",
       "      <td>1.090790</td>\n",
       "    </tr>\n",
       "    <tr>\n",
       "      <th>2</th>\n",
       "      <td>0.004312</td>\n",
       "      <td>73.7</td>\n",
       "      <td>1</td>\n",
       "      <td>16</td>\n",
       "      <td>8.67</td>\n",
       "      <td>1.297990</td>\n",
       "    </tr>\n",
       "  </tbody>\n",
       "</table>\n",
       "</div>"
      ],
      "text/plain": [
       "   Hippocampus_volume   AGE  PTGENDER  PTEDUCAT  ADAS11       FDG\n",
       "0            0.004200  74.3         1        16   10.67  1.369264\n",
       "1            0.002769  81.3         1        18   22.00  1.090790\n",
       "2            0.004312  73.7         1        16    8.67  1.297990"
      ]
     },
     "execution_count": 66,
     "metadata": {},
     "output_type": "execute_result"
    }
   ],
   "source": [
    "selected_var=['Hippocampus_volume', 'AGE', 'PTGENDER', 'PTEDUCAT', 'ADAS11','FDG']\n",
    "target=\"DX\"\n",
    "n_iters=1000\n",
    "X = dataset[selected_var]\n",
    "print(\"y before .codes :\",np.unique(dataset[target]))\n",
    "y = pd.Categorical(dataset[target]).codes #code to only get Integers instead of NL, Dementia, MCI\n",
    "print(\"y after .codes :\",np.unique(y))\n",
    "\n",
    "X.head(3)"
   ]
  },
  {
   "cell_type": "code",
   "execution_count": 67,
   "metadata": {},
   "outputs": [],
   "source": [
    "lr = LogisticRegression()\n",
    "RKFold = RepeatedKFold(n_splits=2, n_repeats=n_iters)\n",
    "lr_accuracies=[]"
   ]
  },
  {
   "cell_type": "code",
   "execution_count": 68,
   "metadata": {},
   "outputs": [
    {
     "name": "stdout",
     "output_type": "stream",
     "text": [
      "CPU times: total: 42.1 s\n",
      "Wall time: 1min 7s\n"
     ]
    }
   ],
   "source": [
    "%%time\n",
    "warnings.filterwarnings('ignore')\n",
    "for train, test in RKFold.split(X, y):\n",
    "    X_train, y_train = X.iloc[train], y[train]\n",
    "    X_test, y_test = X.iloc[test], y[test]\n",
    "\n",
    "    #LogReg part\n",
    "    lr.fit(X_train, y_train)\n",
    "    y_pred_lr = lr.predict(X_test)\n",
    "    lr_accuracies.append(accuracy_score(y_test, y_pred_lr))\n"
   ]
  },
  {
   "cell_type": "code",
   "execution_count": 69,
   "metadata": {},
   "outputs": [
    {
     "name": "stdout",
     "output_type": "stream",
     "text": [
      "Mean for linear regression accuracy : 0.6607970958466851\n",
      "Standard deviation for linear regression accuracy : 0.015447319982205488\n"
     ]
    }
   ],
   "source": [
    "lr_accuracy_mean=np.mean(lr_accuracies)\n",
    "lr_accuracy_std=np.std(lr_accuracies)\n",
    "\n",
    "print(\"Mean for linear regression accuracy :\",lr_accuracy_mean)\n",
    "print(\"Standard deviation for linear regression accuracy :\",lr_accuracy_std)"
   ]
  },
  {
   "cell_type": "code",
   "execution_count": 70,
   "metadata": {},
   "outputs": [],
   "source": [
    "for i in range(n_iters):\n",
    "    if np.quantile(lr_accuracies,i/1000)>=0.66:\n",
    "        average_prediction=(100-i/10)\n",
    "        break;"
   ]
  },
  {
   "cell_type": "code",
   "execution_count": 71,
   "metadata": {},
   "outputs": [
    {
     "name": "stdout",
     "output_type": "stream",
     "text": [
      "The average prediction accuracy of Logisitic regression being greater than 0.66 is : 51.6 %\n"
     ]
    }
   ],
   "source": [
    "print(\"The average prediction accuracy of Logisitic regression being greater than 0.66 is :\",average_prediction,\"%\")\n"
   ]
  },
  {
   "cell_type": "code",
   "execution_count": null,
   "metadata": {},
   "outputs": [],
   "source": []
  },
  {
   "cell_type": "code",
   "execution_count": 73,
   "metadata": {},
   "outputs": [
    {
     "name": "stdout",
     "output_type": "stream",
     "text": [
      "All the cells were executed correctly\n"
     ]
    }
   ],
   "source": [
    "print(\"All the cells were executed correctly\")"
   ]
  }
 ],
 "metadata": {
  "anaconda-cloud": {},
  "kernelspec": {
   "display_name": "Python 3 (ipykernel)",
   "language": "python",
   "name": "python3"
  },
  "language_info": {
   "codemirror_mode": {
    "name": "ipython",
    "version": 3
   },
   "file_extension": ".py",
   "mimetype": "text/x-python",
   "name": "python",
   "nbconvert_exporter": "python",
   "pygments_lexer": "ipython3",
   "version": "3.10.10"
  }
 },
 "nbformat": 4,
 "nbformat_minor": 1
}
