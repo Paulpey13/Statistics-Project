{
 "cells": [
  {
   "attachments": {},
   "cell_type": "markdown",
   "metadata": {},
   "source": [
    "## Exam 20/03/2023\n",
    "\n",
    "\n",
    "We work with the database ADNI, containing information for a clinical cohort of healhty volunteers and patients with Alzheimer's disease."
   ]
  },
  {
   "cell_type": "code",
   "execution_count": 1,
   "metadata": {},
   "outputs": [],
   "source": [
    "import numpy as np\n",
    "import pandas as pd\n",
    "import warnings\n",
    "dataset = pd.read_csv('data.csv')\n",
    "dataset[:10]\n",
    "import matplotlib.pyplot as plt"
   ]
  },
  {
   "cell_type": "markdown",
   "metadata": {},
   "source": [
    "Data fields:\n",
    "- RID: subject's identifier\n",
    "- Hippocampus_volume = normalized volume of the brain region hippocampus\n",
    "- AGE: subject's age\n",
    "- PTGENDER: subject's sex (1 Male, 2 Female)\n",
    "- PTEDUCAT: years of education\n",
    "- ADAS11: clinical score (Alzheimer's disease assessment scale)\n",
    "- FDG: measure of average brain metabolism\n",
    "- DX: clinical diagnosis. In order to severity we have NL (normal), MCI (mild cognitive impairment), and Dementia"
   ]
  },
  {
   "cell_type": "markdown",
   "metadata": {},
   "source": [
    "__Exercise 1.__ Estimate mean and standard deviation for the classification accuracy of the algorithm Nearest Neighbour classifier for predicting clinical diagnosis based on the variables PTEDUCAT, ADAS11, and FDG. (use at least 1000 repetitions)"
   ]
  },
  {
   "cell_type": "code",
   "execution_count": 2,
   "metadata": {},
   "outputs": [
    {
     "data": {
      "text/html": [
       "<div>\n",
       "<style scoped>\n",
       "    .dataframe tbody tr th:only-of-type {\n",
       "        vertical-align: middle;\n",
       "    }\n",
       "\n",
       "    .dataframe tbody tr th {\n",
       "        vertical-align: top;\n",
       "    }\n",
       "\n",
       "    .dataframe thead th {\n",
       "        text-align: right;\n",
       "    }\n",
       "</style>\n",
       "<table border=\"1\" class=\"dataframe\">\n",
       "  <thead>\n",
       "    <tr style=\"text-align: right;\">\n",
       "      <th></th>\n",
       "      <th>Unnamed: 0</th>\n",
       "      <th>RID</th>\n",
       "      <th>Hippocampus_volume</th>\n",
       "      <th>AGE</th>\n",
       "      <th>PTGENDER</th>\n",
       "      <th>PTEDUCAT</th>\n",
       "      <th>ADAS11</th>\n",
       "      <th>FDG</th>\n",
       "      <th>DX</th>\n",
       "    </tr>\n",
       "  </thead>\n",
       "  <tbody>\n",
       "    <tr>\n",
       "      <th>0</th>\n",
       "      <td>1</td>\n",
       "      <td>2</td>\n",
       "      <td>0.0042</td>\n",
       "      <td>74.3</td>\n",
       "      <td>1</td>\n",
       "      <td>16</td>\n",
       "      <td>10.67</td>\n",
       "      <td>1.369264</td>\n",
       "      <td>NL</td>\n",
       "    </tr>\n",
       "  </tbody>\n",
       "</table>\n",
       "</div>"
      ],
      "text/plain": [
       "   Unnamed: 0  RID  Hippocampus_volume   AGE  PTGENDER  PTEDUCAT  ADAS11  \\\n",
       "0           1    2              0.0042  74.3         1        16   10.67   \n",
       "\n",
       "        FDG  DX  \n",
       "0  1.369264  NL  "
      ]
     },
     "execution_count": 2,
     "metadata": {},
     "output_type": "execute_result"
    }
   ],
   "source": [
    "dataset.head(1)"
   ]
  },
  {
   "cell_type": "code",
   "execution_count": 3,
   "metadata": {},
   "outputs": [
    {
     "data": {
      "text/html": [
       "<div>\n",
       "<style scoped>\n",
       "    .dataframe tbody tr th:only-of-type {\n",
       "        vertical-align: middle;\n",
       "    }\n",
       "\n",
       "    .dataframe tbody tr th {\n",
       "        vertical-align: top;\n",
       "    }\n",
       "\n",
       "    .dataframe thead th {\n",
       "        text-align: right;\n",
       "    }\n",
       "</style>\n",
       "<table border=\"1\" class=\"dataframe\">\n",
       "  <thead>\n",
       "    <tr style=\"text-align: right;\">\n",
       "      <th></th>\n",
       "      <th>Hippocampus_volume</th>\n",
       "      <th>AGE</th>\n",
       "      <th>PTGENDER</th>\n",
       "      <th>PTEDUCAT</th>\n",
       "      <th>ADAS11</th>\n",
       "      <th>FDG</th>\n",
       "      <th>DX</th>\n",
       "    </tr>\n",
       "  </thead>\n",
       "  <tbody>\n",
       "    <tr>\n",
       "      <th>0</th>\n",
       "      <td>0.0042</td>\n",
       "      <td>74.3</td>\n",
       "      <td>1</td>\n",
       "      <td>16</td>\n",
       "      <td>10.67</td>\n",
       "      <td>1.369264</td>\n",
       "      <td>NL</td>\n",
       "    </tr>\n",
       "  </tbody>\n",
       "</table>\n",
       "</div>"
      ],
      "text/plain": [
       "   Hippocampus_volume   AGE  PTGENDER  PTEDUCAT  ADAS11       FDG  DX\n",
       "0              0.0042  74.3         1        16   10.67  1.369264  NL"
      ]
     },
     "execution_count": 3,
     "metadata": {},
     "output_type": "execute_result"
    }
   ],
   "source": [
    "#Let's get rid of unwanted columns :\n",
    "dataset=dataset.drop(columns=[\"Unnamed: 0\",'RID'])\n",
    "dataset.head(1)"
   ]
  },
  {
   "cell_type": "code",
   "execution_count": 4,
   "metadata": {},
   "outputs": [],
   "source": [
    "selected_var=['PTEDUCAT', 'ADAS11', 'FDG']\n",
    "target='DX'\n",
    "X=dataset[selected_var]\n",
    "y=dataset['DX']"
   ]
  },
  {
   "cell_type": "code",
   "execution_count": 5,
   "metadata": {},
   "outputs": [
    {
     "data": {
      "text/html": [
       "<div>\n",
       "<style scoped>\n",
       "    .dataframe tbody tr th:only-of-type {\n",
       "        vertical-align: middle;\n",
       "    }\n",
       "\n",
       "    .dataframe tbody tr th {\n",
       "        vertical-align: top;\n",
       "    }\n",
       "\n",
       "    .dataframe thead th {\n",
       "        text-align: right;\n",
       "    }\n",
       "</style>\n",
       "<table border=\"1\" class=\"dataframe\">\n",
       "  <thead>\n",
       "    <tr style=\"text-align: right;\">\n",
       "      <th></th>\n",
       "      <th>PTEDUCAT</th>\n",
       "      <th>ADAS11</th>\n",
       "      <th>FDG</th>\n",
       "    </tr>\n",
       "  </thead>\n",
       "  <tbody>\n",
       "    <tr>\n",
       "      <th>0</th>\n",
       "      <td>16</td>\n",
       "      <td>10.67</td>\n",
       "      <td>1.369264</td>\n",
       "    </tr>\n",
       "  </tbody>\n",
       "</table>\n",
       "</div>"
      ],
      "text/plain": [
       "   PTEDUCAT  ADAS11       FDG\n",
       "0        16   10.67  1.369264"
      ]
     },
     "execution_count": 5,
     "metadata": {},
     "output_type": "execute_result"
    }
   ],
   "source": [
    "X.head(1)"
   ]
  },
  {
   "cell_type": "code",
   "execution_count": 6,
   "metadata": {},
   "outputs": [],
   "source": [
    "from sklearn.neighbors import KNeighborsClassifier\n",
    "from sklearn.model_selection import RepeatedKFold\n",
    "n_iters=1000\n",
    "knn = KNeighborsClassifier()\n",
    "RKFold = RepeatedKFold(n_splits=2, n_repeats=n_iters)\n",
    "knn_accuracies=[]"
   ]
  },
  {
   "cell_type": "code",
   "execution_count": 7,
   "metadata": {},
   "outputs": [
    {
     "name": "stdout",
     "output_type": "stream",
     "text": [
      "CPU times: total: 36.8 s\n",
      "Wall time: 46.5 s\n"
     ]
    }
   ],
   "source": [
    "%%time\n",
    "from sklearn.metrics import accuracy_score\n",
    "\n",
    "warnings.filterwarnings('ignore')\n",
    "\n",
    "for train, test in RKFold.split(X, y):\n",
    "    X_train, y_train = X.iloc[train], y[train]\n",
    "    X_test, y_test = X.iloc[test], y[test]\n",
    "\n",
    "    knn.fit(X_train, y_train)\n",
    "    y_pred_knn = knn.predict(X_test)\n",
    "    knn_accuracies.append(accuracy_score(y_test, y_pred_knn))\n"
   ]
  },
  {
   "cell_type": "code",
   "execution_count": 8,
   "metadata": {},
   "outputs": [
    {
     "name": "stdout",
     "output_type": "stream",
     "text": [
      "Knn mean accuracy = 0.615732850808555\n",
      "Knn mean standard deviation = 0.016657121071567076\n"
     ]
    }
   ],
   "source": [
    "knn_accuracy_mean=np.mean(knn_accuracies)\n",
    "knn_accuracy_std=np.std(knn_accuracies)\n",
    "\n",
    "print(\"Knn mean accuracy =\",knn_accuracy_mean)\n",
    "print(\"Knn mean standard deviation =\",knn_accuracy_std)"
   ]
  },
  {
   "cell_type": "code",
   "execution_count": null,
   "metadata": {},
   "outputs": [],
   "source": []
  },
  {
   "cell_type": "markdown",
   "metadata": {},
   "source": [
    "__Exercise 2__. Compute a 95% confidence interval for the median FDG in the group Dementia, and in the group healthy (NL). Are the median significantly different?  "
   ]
  },
  {
   "cell_type": "markdown",
   "metadata": {},
   "source": [
    "\n",
    "\n",
    "Let's create 2 new dataset : One for healthy subject (NL) and one for subjects with dementia."
   ]
  },
  {
   "cell_type": "code",
   "execution_count": 9,
   "metadata": {},
   "outputs": [],
   "source": [
    "nl = dataset[dataset['DX'] == \"NL\"]\n",
    "dementia = dataset[dataset['DX'] == \"Dementia\"]"
   ]
  },
  {
   "cell_type": "markdown",
   "metadata": {},
   "source": [
    "Let's do a boostrap estimate of both medians."
   ]
  },
  {
   "cell_type": "code",
   "execution_count": 10,
   "metadata": {},
   "outputs": [],
   "source": [
    "alpha = 0.05\n",
    "n_boot_rep = 3000\n",
    "conf_level = alpha / 2 * n_boot_rep"
   ]
  },
  {
   "cell_type": "markdown",
   "metadata": {},
   "source": [
    "Compute the confidence interval for healthy patients :\n",
    "\n",
    "    For the bootsrap, we take randomly elements inside of the healthy patient dataset."
   ]
  },
  {
   "cell_type": "code",
   "execution_count": 11,
   "metadata": {},
   "outputs": [
    {
     "name": "stdout",
     "output_type": "stream",
     "text": [
      "The 95.0% confidence interval for the median is : [1.2971560000000002,1.324486]\n"
     ]
    }
   ],
   "source": [
    "\n",
    "boot = np.random.choice(nl[\"FDG\"],\n",
    "                        size=(len(nl),\n",
    "                        n_boot_rep),\n",
    "                        replace=True)\n",
    "\n",
    "boot_median = np.median(boot, axis=0)\n",
    "\n",
    "low = np.sort(boot_median)[int(conf_level)]\n",
    "up = np.sort(boot_median)[int(n_boot_rep - conf_level)]\n",
    "\n",
    "print(\n",
    "    f\"The {100-alpha*100}% confidence interval for the median is : [{low},{up}]\")"
   ]
  },
  {
   "cell_type": "markdown",
   "metadata": {},
   "source": [
    "Compute the confidence interval for patients with Dementia :\n",
    "\n",
    "    For the bootsrap, we take randomly elements inside of the patient with dementia."
   ]
  },
  {
   "cell_type": "code",
   "execution_count": 12,
   "metadata": {},
   "outputs": [
    {
     "name": "stdout",
     "output_type": "stream",
     "text": [
      "The 95.0% confidence interval for the median is : [1.04165,1.0974439999999999]\n"
     ]
    }
   ],
   "source": [
    "boot = np.random.choice(dementia[\"FDG\"],\n",
    "                        size=(len(dementia),\n",
    "                        n_boot_rep),\n",
    "                        replace=True)\n",
    "boot_median = np.median(boot, axis=0)\n",
    "low = np.sort(boot_median)[int(conf_level)]\n",
    "up = np.sort(boot_median)[int(n_boot_rep - conf_level)]\n",
    "\n",
    "print(\n",
    "    f\"The {100-alpha*100}% confidence interval for the median is : [{low},{up}]\")"
   ]
  },
  {
   "cell_type": "markdown",
   "metadata": {},
   "source": [
    "Let's test the significance of the difference of the two confidence intervals :"
   ]
  },
  {
   "cell_type": "code",
   "execution_count": 13,
   "metadata": {},
   "outputs": [
    {
     "name": "stdout",
     "output_type": "stream",
     "text": [
      "Median healthy :  1.30989\n",
      "Median dementia :  1.064245\n",
      "The observed difference of median is : 0.246\n",
      "statistical test for the difference (p-value):  0.0\n"
     ]
    },
    {
     "data": {
      "image/png": "[encoded data removed]",
      "text/plain": [
       "<Figure size 640x480 with 1 Axes>"
      ]
     },
     "metadata": {},
     "output_type": "display_data"
    }
   ],
   "source": [
    "x=nl['FDG']\n",
    "y=dementia['FDG']\n",
    "\n",
    "def boostrap_groups(x,y, B = 1):\n",
    "    z = np.concatenate([x, y])\n",
    "    diff_boostrap =np.empty(B)\n",
    "    #perform bootsrap\n",
    "    for i in range(B):\n",
    "        permuted_data = np.random.choice(z, len(z), replace = True)\n",
    "        perm_sample_1 = permuted_data[:len(x)]\n",
    "        perm_sample_2 = permuted_data[len(x):]\n",
    "        #compute bootsrap difference of the medians\n",
    "        diff_boostrap[i] = np.median(perm_sample_1) - np.median(perm_sample_2)\n",
    "    \n",
    "    #compute final difference of the median\n",
    "    real_diff = np.median(x) - np.median(y)\n",
    "    print('Median healthy : ', np.median(x))\n",
    "    print('Median dementia : ', np.median(y))\n",
    "    print(\"The observed difference of median is :\",round(real_diff,3))\n",
    "    print('statistical test for the difference (p-value): ', 1-np.sum(real_diff>diff_boostrap)/B)\n",
    "    plt.hist(diff_boostrap, 25, histtype='step')\n",
    "    plt.title('Null distribution')\n",
    "    plt.axvline(x = real_diff)\n",
    "    plt.show()\n",
    "\n",
    "boostrap_groups(x,y,B=1000)"
   ]
  },
  {
   "cell_type": "markdown",
   "metadata": {},
   "source": [
    "**Conclusion** : According to the null distribution, we can see that the difference between the two median is significant, the median for FDG Healthy and FDG Dementia is not the same. (We reject the null hypothesis)"
   ]
  },
  {
   "cell_type": "code",
   "execution_count": null,
   "metadata": {},
   "outputs": [],
   "source": []
  },
  {
   "cell_type": "markdown",
   "metadata": {},
   "source": [
    "__Exercise 3.__ Use the information criteria to decide what is the best polynomial model that explains the relatioship between age (predictor) and ADAS11 (target) in the group MCI? And in the group NL? "
   ]
  },
  {
   "cell_type": "markdown",
   "metadata": {},
   "source": [
    "I will use BIC, AIC and AICc as information criteria.\n",
    "\n",
    "1st, let's reduce the dataset by taking only AGE, ADAS11 and DX:"
   ]
  },
  {
   "cell_type": "code",
   "execution_count": 14,
   "metadata": {},
   "outputs": [],
   "source": [
    "reduced_df = dataset[[\"AGE\", \"ADAS11\", \"DX\"]]"
   ]
  },
  {
   "cell_type": "markdown",
   "metadata": {},
   "source": [
    "Take only the rows where DX == Given group and then drop the column DX to only have the features whose relationship is to be explained"
   ]
  },
  {
   "cell_type": "code",
   "execution_count": 15,
   "metadata": {},
   "outputs": [],
   "source": [
    "NL_df = reduced_df[reduced_df['DX'] == \"NL\"].drop(columns=[\"DX\"])\n",
    "MCI_df = reduced_df[reduced_df['DX'] == \"MCI\"].drop(columns=[\"DX\"])"
   ]
  },
  {
   "cell_type": "markdown",
   "metadata": {},
   "source": [
    "Compute the Gaussian log-likelihood :\n"
   ]
  },
  {
   "cell_type": "code",
   "execution_count": 16,
   "metadata": {},
   "outputs": [],
   "source": [
    "def Gaussian_loglik(x,y,w,sigma2):\n",
    "\n",
    "    N = len(y)\n",
    "    ll = -N/2 * np.log(2*np.pi*sigma2) - 1/(2*sigma2) * np.sum((y-x.dot(w.T))**2)\n",
    "    return ll\n"
   ]
  },
  {
   "cell_type": "markdown",
   "metadata": {},
   "source": [
    "Fit a polymonial model :"
   ]
  },
  {
   "cell_type": "code",
   "execution_count": 17,
   "metadata": {},
   "outputs": [],
   "source": [
    "def fit_poly(x,y,d):\n",
    "    w_ml = np.linalg.solve(x.T.dot(x),x.T.dot(y))\n",
    "    w_ml.reshape(1,(len(w_ml)))\n",
    "    sigma2_ml = np.mean((y-x.dot(w_ml.T))**2)\n",
    "    return w_ml, sigma2_ml"
   ]
  },
  {
   "cell_type": "markdown",
   "metadata": {},
   "source": [
    "Grid search on a polynomial model"
   ]
  },
  {
   "cell_type": "code",
   "execution_count": 18,
   "metadata": {},
   "outputs": [],
   "source": [
    "def poly_search(x, y, d):\n",
    "    loglik = []\n",
    "    AIC = []\n",
    "    AICc = []\n",
    "    BIC = []\n",
    "    for d in range(1,d):\n",
    "        x_poly = np.array([x**i for i in range(d)]).T\n",
    "        w_ml, sigma2_ml = fit_poly(x_poly,y,d)\n",
    "        loglik.append(Gaussian_loglik(x_poly,y,w_ml,sigma2_ml))\n",
    "        dev = -2*np.array(Gaussian_loglik(x_poly, y, w_ml, sigma2_ml))\n",
    "        AIC.append(dev+2*len(w_ml))\n",
    "        BIC.append(dev+2*len(w_ml)*np.log(len(x)))\n",
    "        AICc.append(dev+2*len(w_ml) + 2*d + 2.*d*(d+1)/(x.shape[0]-d-1))\n",
    "    return AIC, AICc, BIC"
   ]
  },
  {
   "cell_type": "markdown",
   "metadata": {},
   "source": [
    "Let's apply and plot the functions for both group :"
   ]
  },
  {
   "cell_type": "code",
   "execution_count": 19,
   "metadata": {},
   "outputs": [
    {
     "data": {
      "image/png": "[encoded data removed]",
      "text/plain": [
       "<Figure size 640x480 with 1 Axes>"
      ]
     },
     "metadata": {},
     "output_type": "display_data"
    }
   ],
   "source": [
    "degrees = 10\n",
    "AIC, AICc, BIC = poly_search(MCI_df[\"AGE\"], MCI_df[\"ADAS11\"], degrees)\n",
    "\n",
    "plt.plot(range(1,degrees), AIC, label = \"AIC\")\n",
    "plt.ylabel('Information Criteria')\n",
    "plt.plot(range(1,degrees), AICc, label = \"AICc\")\n",
    "plt.plot(range(1,degrees), BIC, label = \"BIC\")\n",
    "plt.xlabel('polynomial degree')\n",
    "plt.legend()\n",
    "plt.show()"
   ]
  },
  {
   "cell_type": "markdown",
   "metadata": {},
   "source": [
    "Here, we have multiple choice, we obsere that :\n",
    "\n",
    "    - The best polynomial degree for BIC is 2\n",
    "    \n",
    "    - The best polynomial degree for AICc is 2\n",
    "    \n",
    "    - The best polynomial degree for AIC is 4\n",
    "    \n",
    "In `lesson 8`, we have seen that :\n",
    "\n",
    "We note that when $N$ is very large, the AICc converges to AIC, while the correction factor will be more relevant for small sample sizes. The rule of thumb for using AICc is when the ratio $\\frac{N}{N_{parameters}}$ is less than 40, and in general, AICc is always preferred to AIC.\n",
    "\n",
    "**Thus, here, we can focus on AICc and BIC and in this case,the best model to chose is a model with polynomial degree = 2**\n",
    "    \n",
    "    "
   ]
  },
  {
   "cell_type": "code",
   "execution_count": 20,
   "metadata": {},
   "outputs": [
    {
     "data": {
      "image/png": "[encoded data removed]",
      "text/plain": [
       "<Figure size 640x480 with 1 Axes>"
      ]
     },
     "metadata": {},
     "output_type": "display_data"
    }
   ],
   "source": [
    "degrees = 10\n",
    "AIC, AICc, BIC = poly_search(NL_df[\"AGE\"], NL_df[\"ADAS11\"], degrees)\n",
    "\n",
    "plt.plot(range(1,degrees), AIC, label = \"AIC\")\n",
    "plt.ylabel('Information Criteria')\n",
    "plt.plot(range(1,degrees), AICc, label = \"AICc\")\n",
    "plt.plot(range(1,degrees), BIC, label = \"BIC\")\n",
    "plt.xlabel('polynomial degree')\n",
    "plt.legend()\n",
    "plt.show()"
   ]
  },
  {
   "cell_type": "markdown",
   "metadata": {},
   "source": [
    "Here, we also have multiple choice, we obsere that :\n",
    "\n",
    "    - The best polynomial degree for BIC is 2\n",
    "    \n",
    "    - The best polynomial degree for AICc is 2\n",
    "    \n",
    "    - The best polynomial degree for AIC is 2\n",
    "    \n",
    "**As every information criteria are the same we can clearly say that the best model to chose is also a model with polynomial degree = 2**\n",
    "    \n",
    "\n",
    "\n",
    "\n"
   ]
  },
  {
   "cell_type": "markdown",
   "metadata": {},
   "source": [
    "**Conclusion :** Here, we have seen that in both case, the best model to chose is a model with polynomial degree=2, we have also seen that the information criterion can differ and we need to chose the right one according to the situation. Here, we have chosen to focus on AICc/BIC for the first case because there was few parameters and the two were giving the same answer, which is reassuring."
   ]
  },
  {
   "cell_type": "code",
   "execution_count": null,
   "metadata": {},
   "outputs": [],
   "source": []
  },
  {
   "cell_type": "markdown",
   "metadata": {},
   "source": [
    "__Exercise 4.__ Repeat Exercise 3 by using leave one out, and compare the results."
   ]
  },
  {
   "cell_type": "code",
   "execution_count": 21,
   "metadata": {},
   "outputs": [
    {
     "data": {
      "text/plain": [
       "array([1, 2])"
      ]
     },
     "execution_count": 21,
     "metadata": {},
     "output_type": "execute_result"
    }
   ],
   "source": [
    "x2=[1,2,3]\n",
    "np.delete(x2,2)"
   ]
  },
  {
   "cell_type": "code",
   "execution_count": 22,
   "metadata": {},
   "outputs": [],
   "source": [
    "from sklearn.model_selection import train_test_split\n",
    "y=NL_df[\"ADAS11\"]\n",
    "X=NL_df[\"AGE\"]\n",
    "\n",
    "X_train, X_test, y_train, y_test = train_test_split(X, y, test_size=0.2, random_state=0)"
   ]
  },
  {
   "cell_type": "code",
   "execution_count": 23,
   "metadata": {},
   "outputs": [],
   "source": [
    "# def loo_poly_search(x, y, d):\n",
    "#     n = len(x)\n",
    "#     mse = []\n",
    "#     for i in range(n):\n",
    "#         x_train = np.delete(x,i)\n",
    "#         y_train = np.delete(y.ravel(), i)\n",
    "#         x_test = x[i]\n",
    "#         y_test = y[i]\n",
    "#         x_train_poly = np.array([x_train**j for j in range(1, d+1)]).T\n",
    "#         w_ml, sigma2_ml = fit_poly(x_train_poly, y_train, d)\n",
    "#         y_pred = x_test.dot(w_ml.T)\n",
    "#         mse.append((y_test - y_pred)**2)\n",
    "#     return np.mean(mse)\n",
    "\n",
    "# degrees = 10\n",
    "# mse = []\n",
    "# for d in range(1, degrees):\n",
    "#     mse.append(loo_poly_search(MCI_df[\"AGE\"], MCI_df[\"ADAS11\"], d))\n",
    "\n",
    "# plt.plot(range(1, degrees), mse)\n",
    "# plt.xlabel('polynomial degree')\n",
    "# plt.ylabel('LOO prediction error')\n",
    "# plt.show()\n"
   ]
  },
  {
   "cell_type": "code",
   "execution_count": null,
   "metadata": {},
   "outputs": [],
   "source": []
  },
  {
   "cell_type": "code",
   "execution_count": null,
   "metadata": {},
   "outputs": [],
   "source": []
  },
  {
   "cell_type": "markdown",
   "metadata": {},
   "source": [
    "__Exercise 5.__ What is the best combination of variables (excluded RID and DX) for predicting PTEDUCAT with a linear model?"
   ]
  },
  {
   "cell_type": "code",
   "execution_count": 24,
   "metadata": {},
   "outputs": [],
   "source": [
    "selected_5=['Hippocampus_volume','PTGENDER','ADAS11','FDG']\n",
    "\n",
    "X_5=dataset[selected_5]\n",
    "y_5=dataset['PTEDUCAT']"
   ]
  },
  {
   "cell_type": "code",
   "execution_count": 25,
   "metadata": {
    "scrolled": true
   },
   "outputs": [
    {
     "data": {
      "text/html": [
       "<div>\n",
       "<style scoped>\n",
       "    .dataframe tbody tr th:only-of-type {\n",
       "        vertical-align: middle;\n",
       "    }\n",
       "\n",
       "    .dataframe tbody tr th {\n",
       "        vertical-align: top;\n",
       "    }\n",
       "\n",
       "    .dataframe thead th {\n",
       "        text-align: right;\n",
       "    }\n",
       "</style>\n",
       "<table border=\"1\" class=\"dataframe\">\n",
       "  <thead>\n",
       "    <tr style=\"text-align: right;\">\n",
       "      <th></th>\n",
       "      <th>Hippocampus_volume</th>\n",
       "      <th>PTGENDER</th>\n",
       "      <th>ADAS11</th>\n",
       "      <th>FDG</th>\n",
       "    </tr>\n",
       "  </thead>\n",
       "  <tbody>\n",
       "    <tr>\n",
       "      <th>0</th>\n",
       "      <td>0.004200</td>\n",
       "      <td>1</td>\n",
       "      <td>10.67</td>\n",
       "      <td>1.369264</td>\n",
       "    </tr>\n",
       "    <tr>\n",
       "      <th>1</th>\n",
       "      <td>0.002769</td>\n",
       "      <td>1</td>\n",
       "      <td>22.00</td>\n",
       "      <td>1.090790</td>\n",
       "    </tr>\n",
       "  </tbody>\n",
       "</table>\n",
       "</div>"
      ],
      "text/plain": [
       "   Hippocampus_volume  PTGENDER  ADAS11       FDG\n",
       "0            0.004200         1   10.67  1.369264\n",
       "1            0.002769         1   22.00  1.090790"
      ]
     },
     "execution_count": 25,
     "metadata": {},
     "output_type": "execute_result"
    }
   ],
   "source": [
    "X_5.head(2)"
   ]
  },
  {
   "cell_type": "code",
   "execution_count": null,
   "metadata": {},
   "outputs": [],
   "source": []
  },
  {
   "cell_type": "markdown",
   "metadata": {},
   "source": [
    "Redefine fit poly without de degree parameter"
   ]
  },
  {
   "cell_type": "code",
   "execution_count": 26,
   "metadata": {},
   "outputs": [],
   "source": [
    "def fit_poly2(x,y):\n",
    "    w_ml = np.linalg.solve(x.T.dot(x),x.T.dot(y))\n",
    "    w_ml.reshape(1,(len(w_ml)))\n",
    "    sigma2_ml = np.mean((y-x.dot(w_ml))**2)\n",
    "    return w_ml, sigma2_ml"
   ]
  },
  {
   "cell_type": "code",
   "execution_count": 27,
   "metadata": {},
   "outputs": [],
   "source": [
    "def Gaussian_loglik(x,y,w,sigma2):\n",
    "    N = len(y)\n",
    "    ll = -N/2 * np.log(2*np.pi*sigma2) - 1/(2*sigma2) * np.sum((y-x.dot(w))**2)\n",
    "    return ll"
   ]
  },
  {
   "cell_type": "markdown",
   "metadata": {},
   "source": [
    "Now, we are going to compare each different combinations of feature. For the comparison we are going to use AIC, AICc and BIC."
   ]
  },
  {
   "cell_type": "code",
   "execution_count": 28,
   "metadata": {},
   "outputs": [],
   "source": [
    "def compare_tables(features, target, max_number_of_columns):\n",
    "    AIC = []\n",
    "    AICc = []\n",
    "    BIC = []\n",
    "    model = []\n",
    "    ll = []\n",
    "    coef = []\n",
    "    sigma2 = []\n",
    "\n",
    "    # For each number of parameters in the model\n",
    "    for n_elements in range(1,10):\n",
    "        # For each combination of variables\n",
    "        for indices in itertools.combinations(range(max_number_of_columns), n_elements):\n",
    "\n",
    "            # Store the indices corresponding to the parameters\n",
    "            model.append(indices)\n",
    "            # Fit the model\n",
    "            x_train = features.values[:,indices].reshape(features.values.shape[0],n_elements)\n",
    "            w_ml, sigma2_ml = fit_poly2(x_train, target.values)\n",
    "\n",
    "            # compute the log-likelihhod\n",
    "            training_ll = Gaussian_loglik(x_train,target,w_ml,sigma2_ml)\n",
    "\n",
    "            # store the coefficients\n",
    "            coefficients = np.zeros(max_number_of_columns)\n",
    "            coefficients[[indices]] = w_ml.T        \n",
    "            coef.append(coefficients)\n",
    "            sigma2.append(sigma2_ml)\n",
    "\n",
    "            # store all the metrics\n",
    "            ll.append(float(-training_ll))\n",
    "            AIC.append(float(-2*training_ll + 2*n_elements))\n",
    "            AICc.append(float(-2*training_ll + 2*n_elements + 2.*n_elements*(n_elements+1)/(features.values.shape[0]-n_elements-1)))\n",
    "            BIC.append(float(-2*training_ll + 2*n_elements*np.log(features.values.shape[0])))\n",
    "\n",
    "    results = pd.DataFrame({'model': model, 'AIC': AIC, 'AICc': AICc, 'BIC' :BIC, \n",
    "                            'neg_loglik' : ll, 'coef' : coef, 'sigma2' : sigma2})  \n",
    "    return results"
   ]
  },
  {
   "cell_type": "code",
   "execution_count": 29,
   "metadata": {},
   "outputs": [],
   "source": [
    "nb_cols=4\n",
    "import itertools\n",
    "results = compare_tables(X_5, y_5, nb_cols)"
   ]
  },
  {
   "cell_type": "code",
   "execution_count": 30,
   "metadata": {},
   "outputs": [],
   "source": [
    "results.sort_values('AIC', ascending = True, inplace = True)\n",
    "results.reset_index(inplace = True)\n",
    "model_comparison = results[['model', 'AIC', 'AICc', 'BIC']]\n",
    "\n",
    "fitted_models = results[['model', 'coef', 'sigma2']]"
   ]
  },
  {
   "cell_type": "markdown",
   "metadata": {},
   "source": [
    "Let's plot the table. This table is sorted on the smallest AIC value, we can see for each combination of feature, their different AIC, AICc and BIC. The difference columns is the difference between lowest AIC and current AIC."
   ]
  },
  {
   "cell_type": "code",
   "execution_count": 31,
   "metadata": {},
   "outputs": [
    {
     "data": {
      "text/html": [
       "<div>\n",
       "<style scoped>\n",
       "    .dataframe tbody tr th:only-of-type {\n",
       "        vertical-align: middle;\n",
       "    }\n",
       "\n",
       "    .dataframe tbody tr th {\n",
       "        vertical-align: top;\n",
       "    }\n",
       "\n",
       "    .dataframe thead th {\n",
       "        text-align: right;\n",
       "    }\n",
       "</style>\n",
       "<table border=\"1\" class=\"dataframe\">\n",
       "  <thead>\n",
       "    <tr style=\"text-align: right;\">\n",
       "      <th></th>\n",
       "      <th>model</th>\n",
       "      <th>AIC</th>\n",
       "      <th>AICc</th>\n",
       "      <th>BIC</th>\n",
       "      <th>difference</th>\n",
       "    </tr>\n",
       "  </thead>\n",
       "  <tbody>\n",
       "    <tr>\n",
       "      <th>0</th>\n",
       "      <td>(0, 1, 2, 3)</td>\n",
       "      <td>5785.934084</td>\n",
       "      <td>5785.969482</td>\n",
       "      <td>5834.209188</td>\n",
       "      <td>0.000000</td>\n",
       "    </tr>\n",
       "    <tr>\n",
       "      <th>1</th>\n",
       "      <td>(0, 2, 3)</td>\n",
       "      <td>5797.955565</td>\n",
       "      <td>5797.976785</td>\n",
       "      <td>5834.161893</td>\n",
       "      <td>12.021481</td>\n",
       "    </tr>\n",
       "    <tr>\n",
       "      <th>2</th>\n",
       "      <td>(1, 2, 3)</td>\n",
       "      <td>5820.225822</td>\n",
       "      <td>5820.247043</td>\n",
       "      <td>5856.432150</td>\n",
       "      <td>34.291738</td>\n",
       "    </tr>\n",
       "    <tr>\n",
       "      <th>3</th>\n",
       "      <td>(2, 3)</td>\n",
       "      <td>5823.776068</td>\n",
       "      <td>5823.786668</td>\n",
       "      <td>5847.913619</td>\n",
       "      <td>37.841984</td>\n",
       "    </tr>\n",
       "    <tr>\n",
       "      <th>4</th>\n",
       "      <td>(0, 1, 3)</td>\n",
       "      <td>5921.433710</td>\n",
       "      <td>5921.454930</td>\n",
       "      <td>5957.640037</td>\n",
       "      <td>135.499626</td>\n",
       "    </tr>\n",
       "    <tr>\n",
       "      <th>5</th>\n",
       "      <td>(0, 3)</td>\n",
       "      <td>5922.240822</td>\n",
       "      <td>5922.251423</td>\n",
       "      <td>5946.378374</td>\n",
       "      <td>136.306738</td>\n",
       "    </tr>\n",
       "    <tr>\n",
       "      <th>6</th>\n",
       "      <td>(3,)</td>\n",
       "      <td>5940.807450</td>\n",
       "      <td>5940.810980</td>\n",
       "      <td>5952.876226</td>\n",
       "      <td>154.873366</td>\n",
       "    </tr>\n",
       "    <tr>\n",
       "      <th>7</th>\n",
       "      <td>(1, 3)</td>\n",
       "      <td>5942.449053</td>\n",
       "      <td>5942.459654</td>\n",
       "      <td>5966.586605</td>\n",
       "      <td>156.514969</td>\n",
       "    </tr>\n",
       "    <tr>\n",
       "      <th>8</th>\n",
       "      <td>(0, 2)</td>\n",
       "      <td>6137.958968</td>\n",
       "      <td>6137.969569</td>\n",
       "      <td>6162.096520</td>\n",
       "      <td>352.024884</td>\n",
       "    </tr>\n",
       "    <tr>\n",
       "      <th>9</th>\n",
       "      <td>(0, 1, 2)</td>\n",
       "      <td>6139.897415</td>\n",
       "      <td>6139.918635</td>\n",
       "      <td>6176.103742</td>\n",
       "      <td>353.963330</td>\n",
       "    </tr>\n",
       "  </tbody>\n",
       "</table>\n",
       "</div>"
      ],
      "text/plain": [
       "          model          AIC         AICc          BIC  difference\n",
       "0  (0, 1, 2, 3)  5785.934084  5785.969482  5834.209188    0.000000\n",
       "1     (0, 2, 3)  5797.955565  5797.976785  5834.161893   12.021481\n",
       "2     (1, 2, 3)  5820.225822  5820.247043  5856.432150   34.291738\n",
       "3        (2, 3)  5823.776068  5823.786668  5847.913619   37.841984\n",
       "4     (0, 1, 3)  5921.433710  5921.454930  5957.640037  135.499626\n",
       "5        (0, 3)  5922.240822  5922.251423  5946.378374  136.306738\n",
       "6          (3,)  5940.807450  5940.810980  5952.876226  154.873366\n",
       "7        (1, 3)  5942.449053  5942.459654  5966.586605  156.514969\n",
       "8        (0, 2)  6137.958968  6137.969569  6162.096520  352.024884\n",
       "9     (0, 1, 2)  6139.897415  6139.918635  6176.103742  353.963330"
      ]
     },
     "execution_count": 31,
     "metadata": {},
     "output_type": "execute_result"
    }
   ],
   "source": [
    "differences_wrt_minimum = model_comparison.AIC - model_comparison.AIC[0]\n",
    "model_comparison.insert(len(model_comparison.columns), 'difference', differences_wrt_minimum)\n",
    "model_comparison[:10]\n"
   ]
  },
  {
   "cell_type": "code",
   "execution_count": 32,
   "metadata": {},
   "outputs": [
    {
     "name": "stdout",
     "output_type": "stream",
     "text": [
      "Index(['Hippocampus_volume', 'PTGENDER', 'ADAS11', 'FDG'], dtype='object')\n"
     ]
    }
   ],
   "source": [
    "print(X_5.columns)"
   ]
  },
  {
   "cell_type": "markdown",
   "metadata": {},
   "source": [
    "In the case where we want to rely on the AIC and/or AICc, we chose the first line because it the the line with AIC and AIcc minimum, and in this case, all the features are selected. Here, the best combination is all the features."
   ]
  },
  {
   "cell_type": "code",
   "execution_count": 33,
   "metadata": {},
   "outputs": [
    {
     "data": {
      "text/html": [
       "<div>\n",
       "<style scoped>\n",
       "    .dataframe tbody tr th:only-of-type {\n",
       "        vertical-align: middle;\n",
       "    }\n",
       "\n",
       "    .dataframe tbody tr th {\n",
       "        vertical-align: top;\n",
       "    }\n",
       "\n",
       "    .dataframe thead th {\n",
       "        text-align: right;\n",
       "    }\n",
       "</style>\n",
       "<table border=\"1\" class=\"dataframe\">\n",
       "  <thead>\n",
       "    <tr style=\"text-align: right;\">\n",
       "      <th></th>\n",
       "      <th>model</th>\n",
       "      <th>AIC</th>\n",
       "      <th>AICc</th>\n",
       "      <th>BIC</th>\n",
       "      <th>difference</th>\n",
       "    </tr>\n",
       "  </thead>\n",
       "  <tbody>\n",
       "    <tr>\n",
       "      <th>0</th>\n",
       "      <td>(0, 1, 2, 3)</td>\n",
       "      <td>5785.934084</td>\n",
       "      <td>5785.969482</td>\n",
       "      <td>5834.209188</td>\n",
       "      <td>0.0</td>\n",
       "    </tr>\n",
       "  </tbody>\n",
       "</table>\n",
       "</div>"
      ],
      "text/plain": [
       "          model          AIC         AICc          BIC  difference\n",
       "0  (0, 1, 2, 3)  5785.934084  5785.969482  5834.209188         0.0"
      ]
     },
     "execution_count": 33,
     "metadata": {},
     "output_type": "execute_result"
    }
   ],
   "source": [
    "model_comparison[model_comparison['AIC']==min(model_comparison['AIC'])]"
   ]
  },
  {
   "cell_type": "markdown",
   "metadata": {},
   "source": [
    "AICc minimum :"
   ]
  },
  {
   "cell_type": "code",
   "execution_count": 34,
   "metadata": {},
   "outputs": [
    {
     "data": {
      "text/html": [
       "<div>\n",
       "<style scoped>\n",
       "    .dataframe tbody tr th:only-of-type {\n",
       "        vertical-align: middle;\n",
       "    }\n",
       "\n",
       "    .dataframe tbody tr th {\n",
       "        vertical-align: top;\n",
       "    }\n",
       "\n",
       "    .dataframe thead th {\n",
       "        text-align: right;\n",
       "    }\n",
       "</style>\n",
       "<table border=\"1\" class=\"dataframe\">\n",
       "  <thead>\n",
       "    <tr style=\"text-align: right;\">\n",
       "      <th></th>\n",
       "      <th>model</th>\n",
       "      <th>AIC</th>\n",
       "      <th>AICc</th>\n",
       "      <th>BIC</th>\n",
       "      <th>difference</th>\n",
       "    </tr>\n",
       "  </thead>\n",
       "  <tbody>\n",
       "    <tr>\n",
       "      <th>0</th>\n",
       "      <td>(0, 1, 2, 3)</td>\n",
       "      <td>5785.934084</td>\n",
       "      <td>5785.969482</td>\n",
       "      <td>5834.209188</td>\n",
       "      <td>0.0</td>\n",
       "    </tr>\n",
       "  </tbody>\n",
       "</table>\n",
       "</div>"
      ],
      "text/plain": [
       "          model          AIC         AICc          BIC  difference\n",
       "0  (0, 1, 2, 3)  5785.934084  5785.969482  5834.209188         0.0"
      ]
     },
     "execution_count": 34,
     "metadata": {},
     "output_type": "execute_result"
    }
   ],
   "source": [
    "model_comparison[model_comparison['AICc']==min(model_comparison['AICc'])]"
   ]
  },
  {
   "cell_type": "markdown",
   "metadata": {},
   "source": [
    "In the case where we want to rely on BIC, we chose the line where BIC is min :"
   ]
  },
  {
   "cell_type": "code",
   "execution_count": 35,
   "metadata": {},
   "outputs": [
    {
     "data": {
      "text/html": [
       "<div>\n",
       "<style scoped>\n",
       "    .dataframe tbody tr th:only-of-type {\n",
       "        vertical-align: middle;\n",
       "    }\n",
       "\n",
       "    .dataframe tbody tr th {\n",
       "        vertical-align: top;\n",
       "    }\n",
       "\n",
       "    .dataframe thead th {\n",
       "        text-align: right;\n",
       "    }\n",
       "</style>\n",
       "<table border=\"1\" class=\"dataframe\">\n",
       "  <thead>\n",
       "    <tr style=\"text-align: right;\">\n",
       "      <th></th>\n",
       "      <th>model</th>\n",
       "      <th>AIC</th>\n",
       "      <th>AICc</th>\n",
       "      <th>BIC</th>\n",
       "      <th>difference</th>\n",
       "    </tr>\n",
       "  </thead>\n",
       "  <tbody>\n",
       "    <tr>\n",
       "      <th>1</th>\n",
       "      <td>(0, 2, 3)</td>\n",
       "      <td>5797.955565</td>\n",
       "      <td>5797.976785</td>\n",
       "      <td>5834.161893</td>\n",
       "      <td>12.021481</td>\n",
       "    </tr>\n",
       "  </tbody>\n",
       "</table>\n",
       "</div>"
      ],
      "text/plain": [
       "       model          AIC         AICc          BIC  difference\n",
       "1  (0, 2, 3)  5797.955565  5797.976785  5834.161893   12.021481"
      ]
     },
     "execution_count": 35,
     "metadata": {},
     "output_type": "execute_result"
    }
   ],
   "source": [
    "model_comparison[model_comparison['BIC']==min(model_comparison['BIC'])]"
   ]
  },
  {
   "cell_type": "markdown",
   "metadata": {},
   "source": [
    "Thus, in this case, the best set of features is : Hippocampus_volume, ADAS11 and FDG"
   ]
  },
  {
   "cell_type": "code",
   "execution_count": null,
   "metadata": {},
   "outputs": [],
   "source": []
  },
  {
   "cell_type": "markdown",
   "metadata": {},
   "source": [
    "**I personnaly think that in this case, it is better to rely on AIC/AICc because they both indicates the same combination of features and in any case, the minimum BIC is not too far from the one where AIC is minimum.**\n",
    "\n",
    "**Conclusion :** the best set of feature to chose is 0,1,2,3 ==> Which are all the features."
   ]
  },
  {
   "cell_type": "code",
   "execution_count": null,
   "metadata": {},
   "outputs": [],
   "source": []
  },
  {
   "cell_type": "markdown",
   "metadata": {},
   "source": [
    "__Open question__. Is it true that a model with the lowest AIC is the best one? "
   ]
  },
  {
   "cell_type": "markdown",
   "metadata": {},
   "source": [
    "As seen previously, taking the lowest AIC is not always the best one. We have seen in Exercise 3 that when $N$ is very large, the AICc converges to AIC, while the correction factor will be more relevant for small sample sizes. The rule of thumb for using AICc is when the ratio $\\frac{N}{N_{parameters}}$ is less than 40, and in general, AICc is often preferred to AIC.\n",
    "\n",
    "Also, sometimes the BIC is preferable as we have seen in **`lesson 8`**, the penalty term of the BIC is larger than the one from AIC. BIC is then preferable when the model is very simple and describe the data as simple as possible."
   ]
  },
  {
   "cell_type": "code",
   "execution_count": null,
   "metadata": {},
   "outputs": [],
   "source": []
  },
  {
   "cell_type": "code",
   "execution_count": 36,
   "metadata": {},
   "outputs": [
    {
     "name": "stdout",
     "output_type": "stream",
     "text": [
      "all cells were executed correctly\n"
     ]
    }
   ],
   "source": [
    "print(\"all cells were executed correctly\")"
   ]
  }
 ],
 "metadata": {
  "anaconda-cloud": {},
  "kernelspec": {
   "display_name": "Python 3 (ipykernel)",
   "language": "python",
   "name": "python3"
  },
  "language_info": {
   "codemirror_mode": {
    "name": "ipython",
    "version": 3
   },
   "file_extension": ".py",
   "mimetype": "text/x-python",
   "name": "python",
   "nbconvert_exporter": "python",
   "pygments_lexer": "ipython3",
   "version": "3.10.10"
  }
 },
 "nbformat": 4,
 "nbformat_minor": 1
}
